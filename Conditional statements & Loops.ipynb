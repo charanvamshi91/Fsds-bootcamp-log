{
 "cells": [
  {
   "cell_type": "markdown",
   "id": "d867faa8-5eb3-4ba6-8134-9b95ef80ae02",
   "metadata": {},
   "source": [
    "# Conditional Statements IN PYTHON\n",
    "- Conditional statements in Python help the program make decisions. They run certain code only if a condition is true, using if, elif, and else."
   ]
  },
  {
   "cell_type": "raw",
   "id": "313a24f2-cc9c-41c9-b819-98620591a5ef",
   "metadata": {},
   "source": [
    "🔹 Syntax:\n",
    "if condition:\n",
    "    # runs if condition is True\n",
    "elif another_condition:\n",
    "    # runs if previous is False and this is True\n",
    "else:\n",
    "    # runs if all above conditions are False"
   ]
  },
  {
   "cell_type": "markdown",
   "id": "df5bc264-9f58-40a4-afe9-4ba263e33f56",
   "metadata": {},
   "source": [
    "# if Statement\n",
    "- Runs code only if the condition is True."
   ]
  },
  {
   "cell_type": "code",
   "execution_count": 17,
   "id": "08848646-8415-4214-807a-d8c41ece9160",
   "metadata": {},
   "outputs": [
    {
     "name": "stdout",
     "output_type": "stream",
     "text": [
      "Eligible to vote\n"
     ]
    }
   ],
   "source": [
    "age = 20\n",
    "if age >= 18:\n",
    "    print(\"Eligible to vote\")"
   ]
  },
  {
   "cell_type": "markdown",
   "id": "a81d4934-4499-41fd-95a7-edac402cb1b4",
   "metadata": {},
   "source": [
    "# if-else Statement\n",
    "- Provides an alternative path when the condition is False."
   ]
  },
  {
   "cell_type": "code",
   "execution_count": 18,
   "id": "b7c83f4c-1556-4650-8fc3-f2f5b7c37779",
   "metadata": {},
   "outputs": [
    {
     "name": "stdout",
     "output_type": "stream",
     "text": [
      "Pass\n"
     ]
    }
   ],
   "source": [
    "marks = 91\n",
    "if marks >= 50:\n",
    "    print(\"Pass\")\n",
    "else:\n",
    "    print(\"Fail\")"
   ]
  },
  {
   "cell_type": "markdown",
   "id": "6c845433-7358-4e41-be24-93a417b3f5bc",
   "metadata": {},
   "source": [
    "# if-elif-else Ladder\n",
    "- Handles multiple conditions."
   ]
  },
  {
   "cell_type": "code",
   "execution_count": 19,
   "id": "d49e6050-d3d9-4c2a-857b-603c6323e4e0",
   "metadata": {},
   "outputs": [
    {
     "name": "stdout",
     "output_type": "stream",
     "text": [
      "Warm\n"
     ]
    }
   ],
   "source": [
    "temp = 28\n",
    "if temp > 35:\n",
    "    print(\"Hot\")\n",
    "elif temp > 25:\n",
    "    print(\"Warm\")\n",
    "else:\n",
    "    print(\"Cold\")"
   ]
  },
  {
   "cell_type": "markdown",
   "id": "6f303169-09f1-471c-9058-142e7838c460",
   "metadata": {},
   "source": [
    "# Nested if\n",
    "- if statement inside another if."
   ]
  },
  {
   "cell_type": "code",
   "execution_count": 20,
   "id": "f8af9117-d278-4ec8-894f-c59f063a455f",
   "metadata": {},
   "outputs": [
    {
     "name": "stdout",
     "output_type": "stream",
     "text": [
      "Valid Score\n"
     ]
    }
   ],
   "source": [
    "score = 73\n",
    "if score > 50:\n",
    "    if score < 100:\n",
    "        print(\"Valid Score\")"
   ]
  },
  {
   "cell_type": "markdown",
   "id": "48dfda33-f705-41bb-84f2-1a92a291dbb5",
   "metadata": {},
   "source": [
    "# LOOPS IN PYTHON\n",
    "- Loops in Python are used to repeat a block of code multiple times. They help run the same code again and again until a certain condition is met."
   ]
  },
  {
   "cell_type": "code",
   "execution_count": 1,
   "id": "5bd42a42-ae56-4396-b084-da2a9074fa81",
   "metadata": {},
   "outputs": [
    {
     "name": "stdout",
     "output_type": "stream",
     "text": [
      "data science\n",
      "data science\n",
      "data science\n",
      "data science\n",
      "data science\n"
     ]
    }
   ],
   "source": [
    "i = 1 # initilzing \n",
    "while i <= 5: # condition\n",
    "    print(\"data science\")\n",
    "    i = i + 1 # increment"
   ]
  },
  {
   "cell_type": "code",
   "execution_count": 2,
   "id": "bb80bae2-3f7b-4c75-a9fc-ccb54468b504",
   "metadata": {},
   "outputs": [
    {
     "name": "stdout",
     "output_type": "stream",
     "text": [
      "data science\n",
      "data science\n",
      "data science\n",
      "data science\n",
      "data science\n"
     ]
    }
   ],
   "source": [
    "i = 5 # initializing \n",
    "while i >= 1: # cindition\n",
    "    print(\"data science\")\n",
    "    i = i-1 # decrement"
   ]
  },
  {
   "cell_type": "code",
   "execution_count": 4,
   "id": "0f438766-015a-43f5-9a80-152874ba4f2d",
   "metadata": {},
   "outputs": [
    {
     "name": "stdout",
     "output_type": "stream",
     "text": [
      "data science : 1\n",
      "data science : 2\n",
      "data science : 3\n",
      "data science : 4\n",
      "data science : 5\n"
     ]
    }
   ],
   "source": [
    "i = 1\n",
    "while i <= 5:\n",
    "    print(\"data science :\", i)\n",
    "    i = i + 1"
   ]
  },
  {
   "cell_type": "code",
   "execution_count": 5,
   "id": "fd163454-3797-4b7a-80f1-c0c57d276152",
   "metadata": {},
   "outputs": [
    {
     "name": "stdout",
     "output_type": "stream",
     "text": [
      "data science :  5\n",
      "data science :  4\n",
      "data science :  3\n",
      "data science :  2\n",
      "data science :  1\n"
     ]
    }
   ],
   "source": [
    "i = 5\n",
    "while i >= 1:\n",
    "    print(\"data science : \", i)\n",
    "    i = i-1"
   ]
  },
  {
   "cell_type": "code",
   "execution_count": 7,
   "id": "427d0217-d166-441f-b5ea-e960f9c88f3b",
   "metadata": {},
   "outputs": [
    {
     "name": "stdout",
     "output_type": "stream",
     "text": [
      "Hi\n",
      "whatsup\n",
      "whatsup\n",
      "whatsup\n",
      "whatsup\n",
      "whatsup\n",
      "\n",
      "Hi\n",
      "whatsup\n",
      "whatsup\n",
      "whatsup\n",
      "whatsup\n",
      "whatsup\n",
      "\n",
      "Hi\n",
      "whatsup\n",
      "whatsup\n",
      "whatsup\n",
      "whatsup\n",
      "whatsup\n",
      "\n",
      "Hi\n",
      "whatsup\n",
      "whatsup\n",
      "whatsup\n",
      "whatsup\n",
      "whatsup\n",
      "\n",
      "Hi\n",
      "whatsup\n",
      "whatsup\n",
      "whatsup\n",
      "whatsup\n",
      "whatsup\n",
      "\n"
     ]
    }
   ],
   "source": [
    "i = 1\n",
    "while i <= 5:\n",
    "    print(\"Hi\")\n",
    "    j = 1 \n",
    "    while j <= 5:\n",
    "        print(\"whatsup\")\n",
    "        j = j+1\n",
    "\n",
    "    i = i + 1\n",
    "    print()"
   ]
  },
  {
   "cell_type": "markdown",
   "id": "e7052f8f-66ec-40b6-84b8-39c32ccfc622",
   "metadata": {},
   "source": [
    "- The end parameter in Python is used with the print() function to control what is printed at the end of the output instead of the default newline (\\n)."
   ]
  },
  {
   "cell_type": "code",
   "execution_count": 11,
   "id": "c4a1790d-9790-4e27-8da8-2a74d057ed36",
   "metadata": {},
   "outputs": [
    {
     "name": "stdout",
     "output_type": "stream",
     "text": [
      "HI whatsup whatsup whatsup whatsup whatsup \n",
      "HI whatsup whatsup whatsup whatsup whatsup \n",
      "HI whatsup whatsup whatsup whatsup whatsup \n",
      "HI whatsup whatsup whatsup whatsup whatsup \n",
      "HI whatsup whatsup whatsup whatsup whatsup \n"
     ]
    }
   ],
   "source": [
    "i = 1\n",
    "while i <= 5:\n",
    "    print(\"HI\", end = \" \")\n",
    "    j = 1\n",
    "    while j <= 5:\n",
    "        print(\"whatsup\", end = \" \")\n",
    "        j = j + 1\n",
    "\n",
    "    i = i + 1\n",
    "    print()"
   ]
  },
  {
   "cell_type": "code",
   "execution_count": 15,
   "id": "3124ccbb-056e-4c55-811a-679e4d4bdb22",
   "metadata": {},
   "outputs": [
    {
     "name": "stdout",
     "output_type": "stream",
     "text": [
      "0 1 2 3 \n",
      "0 2 4 6 \n",
      "0 3 6 9 \n",
      "0 4 8 12 \n",
      "0 5 10 15 \n"
     ]
    }
   ],
   "source": [
    "i = 1\n",
    "while i <= 5:\n",
    "    j = 0\n",
    "    while j <=3:\n",
    "        print(i * j, end = \" \")\n",
    "        j = j + 1\n",
    "    i = i + 1\n",
    "    print()"
   ]
  },
  {
   "cell_type": "code",
   "execution_count": 23,
   "id": "474bb4b3-5846-4cc4-a3f9-d05e327e65f3",
   "metadata": {},
   "outputs": [
    {
     "name": "stdout",
     "output_type": "stream",
     "text": [
      "c\n",
      "h\n",
      "a\n",
      "r\n",
      "a\n",
      "n\n"
     ]
    }
   ],
   "source": [
    "name = \"charan\"\n",
    "for i in name:\n",
    "    print(i)"
   ]
  },
  {
   "cell_type": "code",
   "execution_count": 24,
   "id": "eb38d0a3-94e2-4538-96ab-d0000f42be5d",
   "metadata": {},
   "outputs": [
    {
     "name": "stdout",
     "output_type": "stream",
     "text": [
      "1\n",
      "2\n",
      "3\n",
      "hey\n"
     ]
    }
   ],
   "source": [
    "name1 = [1,2,3,\"hey\"]\n",
    "for i in name1:\n",
    "    print(i)"
   ]
  },
  {
   "cell_type": "code",
   "execution_count": 26,
   "id": "ffa67e12-0849-4505-89a4-a32a506c4949",
   "metadata": {},
   "outputs": [
    {
     "name": "stdout",
     "output_type": "stream",
     "text": [
      "0\n",
      "1\n",
      "2\n",
      "3\n",
      "4\n"
     ]
    }
   ],
   "source": [
    "for i in range(5):\n",
    "    print(i)"
   ]
  },
  {
   "cell_type": "code",
   "execution_count": 27,
   "id": "ac18caf2-078b-47dc-8e67-f24e0463779d",
   "metadata": {},
   "outputs": [
    {
     "name": "stdout",
     "output_type": "stream",
     "text": [
      "1\n",
      "3\n",
      "5\n",
      "7\n",
      "9\n"
     ]
    }
   ],
   "source": [
    "for i in range(1,10,2):\n",
    "    print(i)"
   ]
  },
  {
   "cell_type": "code",
   "execution_count": 28,
   "id": "968db207-f654-49fc-9069-9c38549b6d17",
   "metadata": {},
   "outputs": [
    {
     "name": "stdout",
     "output_type": "stream",
     "text": [
      "5\n",
      "10\n",
      "15\n",
      "20\n",
      "25\n",
      "30\n",
      "35\n",
      "40\n",
      "45\n"
     ]
    }
   ],
   "source": [
    "for i in range(1,50):\n",
    "    if i % 5 == 0:\n",
    "        print(i)"
   ]
  },
  {
   "cell_type": "code",
   "execution_count": 29,
   "id": "c1c2b0b9-0123-428e-b3a4-cea7ff757fb8",
   "metadata": {},
   "outputs": [
    {
     "name": "stdout",
     "output_type": "stream",
     "text": [
      "1 2 3 4 6 7 8 9 11 12 13 14 16 17 18 19 21 22 23 24 26 27 28 29 31 32 33 34 36 37 38 39 41 42 43 44 46 47 48 49 "
     ]
    }
   ],
   "source": [
    "for i in range(1,50):\n",
    "    if i % 5 != 0:\n",
    "        print(i, end = \" \")"
   ]
  },
  {
   "cell_type": "code",
   "execution_count": 30,
   "id": "a97f1be2-646c-4de2-bbda-39ac442d406c",
   "metadata": {},
   "outputs": [
    {
     "name": "stdout",
     "output_type": "stream",
     "text": [
      "1\n",
      "2\n",
      "3\n",
      "4\n",
      "5\n",
      "6\n",
      "7\n",
      "8\n",
      "9\n",
      "10\n"
     ]
    }
   ],
   "source": [
    "for i in range(1,11):\n",
    "    print(i)"
   ]
  },
  {
   "cell_type": "markdown",
   "id": "6f174806-1e1c-431c-96a3-b40442c5201b",
   "metadata": {},
   "source": [
    "# break \n",
    "- The break statement is used to exit a loop early, even if the loop condition is still True or the sequence isn’t finished."
   ]
  },
  {
   "cell_type": "code",
   "execution_count": 34,
   "id": "81829741-d644-489a-8373-a2a2889e6a6f",
   "metadata": {},
   "outputs": [
    {
     "name": "stdout",
     "output_type": "stream",
     "text": [
      "1\n",
      "2\n",
      "3\n",
      "4\n"
     ]
    }
   ],
   "source": [
    "for i in range(1,11):\n",
    "    if i == 5:\n",
    "        break\n",
    "    print(i)"
   ]
  },
  {
   "cell_type": "markdown",
   "id": "9f04c01f-1f27-4ea1-ae30-e6faa81005fe",
   "metadata": {},
   "source": [
    "# continue\n",
    "- The continue statement is used to skip the current iteration of a loop and jump to the next iteration, without stopping the whole loop."
   ]
  },
  {
   "cell_type": "code",
   "execution_count": 35,
   "id": "0cdc068b-faae-4d46-8834-13b925541908",
   "metadata": {},
   "outputs": [
    {
     "name": "stdout",
     "output_type": "stream",
     "text": [
      "1\n",
      "2\n",
      "3\n",
      "4\n",
      "6\n",
      "7\n",
      "8\n",
      "9\n",
      "10\n"
     ]
    }
   ],
   "source": [
    "for i in range(1,11):\n",
    "    if i == 5:\n",
    "        continue\n",
    "    print(i)"
   ]
  },
  {
   "cell_type": "code",
   "execution_count": 36,
   "id": "e8f6f4b0-3c6a-4c3d-a665-d3907e5bec67",
   "metadata": {},
   "outputs": [
    {
     "name": "stdout",
     "output_type": "stream",
     "text": [
      "hey 1\n",
      "hey 2\n",
      "hey 3\n",
      "hey 4\n",
      "hey 6\n",
      "hey 7\n",
      "hey 8\n",
      "hey 9\n",
      "hey 10\n"
     ]
    }
   ],
   "source": [
    "for i in range(1,11):\n",
    "    if i == 5:\n",
    "        continue\n",
    "    print(\"hey\", i)"
   ]
  },
  {
   "cell_type": "markdown",
   "id": "9da19b39-0725-423a-ab99-d1620d9e313b",
   "metadata": {},
   "source": [
    "# pass\n",
    "- The pass statement is a placeholder. It does nothing when executed.\n",
    "You use it when Python requires a statement, but you don’t want to write any code yet."
   ]
  },
  {
   "cell_type": "code",
   "execution_count": 37,
   "id": "768f88ec-ce3a-40a3-9254-f42b23a25023",
   "metadata": {},
   "outputs": [],
   "source": [
    "for i in range(1,11):\n",
    "    pass"
   ]
  },
  {
   "cell_type": "code",
   "execution_count": 47,
   "id": "e4bdfb6d-ca32-47ef-b5f2-be254681a47f",
   "metadata": {},
   "outputs": [
    {
     "name": "stdout",
     "output_type": "stream",
     "text": [
      "3\n",
      "6\n",
      "9\n",
      "12\n",
      "15\n",
      "18\n",
      "21\n",
      "24\n",
      "27\n",
      "30\n",
      "33\n",
      "36\n",
      "39\n",
      "42\n",
      "45\n",
      "48\n",
      "end\n"
     ]
    }
   ],
   "source": [
    "for i in range(1,51):\n",
    "    if i % 3 == 0: \n",
    "        print(i)\n",
    "print('end')"
   ]
  },
  {
   "cell_type": "code",
   "execution_count": 46,
   "id": "11fe5b5b-8b51-45a6-a69c-6e79027935cc",
   "metadata": {},
   "outputs": [
    {
     "name": "stdout",
     "output_type": "stream",
     "text": [
      "1\n",
      "2\n",
      "4\n",
      "7\n",
      "8\n",
      "11\n",
      "13\n",
      "14\n",
      "16\n",
      "17\n",
      "19\n",
      "22\n",
      "23\n",
      "26\n",
      "28\n",
      "29\n",
      "31\n",
      "32\n",
      "34\n",
      "37\n",
      "38\n",
      "41\n",
      "43\n",
      "44\n",
      "46\n",
      "47\n",
      "49\n",
      "end\n"
     ]
    }
   ],
   "source": [
    "for i in range(1,51):\n",
    "    if i%3 == 0 or i%5 == 0:\n",
    "        continue\n",
    "    print(i)\n",
    "print('end')   "
   ]
  },
  {
   "cell_type": "code",
   "execution_count": 48,
   "id": "c5c6a766-4d7c-4d89-b95b-a6fbcebce0a0",
   "metadata": {},
   "outputs": [
    {
     "name": "stdout",
     "output_type": "stream",
     "text": [
      "1\n",
      "2\n",
      "3\n",
      "4\n",
      "5\n",
      "6\n",
      "7\n",
      "8\n",
      "9\n",
      "10\n",
      "11\n",
      "12\n",
      "13\n",
      "14\n",
      "16\n",
      "17\n",
      "18\n",
      "19\n",
      "20\n",
      "21\n",
      "22\n",
      "23\n",
      "24\n",
      "25\n",
      "26\n",
      "27\n",
      "28\n",
      "29\n",
      "31\n",
      "32\n",
      "33\n",
      "34\n",
      "35\n",
      "36\n",
      "37\n",
      "38\n",
      "39\n",
      "40\n",
      "41\n",
      "42\n",
      "43\n",
      "44\n",
      "46\n",
      "47\n",
      "48\n",
      "49\n",
      "50\n",
      "end\n"
     ]
    }
   ],
   "source": [
    "for i in range(1,51):\n",
    "    if i%3 == 0 and i%5 == 0:\n",
    "        continue\n",
    "    print(i)\n",
    "print('end')  "
   ]
  },
  {
   "cell_type": "code",
   "execution_count": 50,
   "id": "50799e32-e8c9-4e3d-a2db-4e6aaa144b47",
   "metadata": {},
   "outputs": [
    {
     "name": "stdout",
     "output_type": "stream",
     "text": [
      "1\n",
      "3\n",
      "5\n",
      "7\n",
      "9\n",
      "11\n",
      "13\n",
      "15\n",
      "17\n",
      "19\n",
      "21\n",
      "23\n",
      "25\n",
      "27\n",
      "29\n",
      "31\n",
      "33\n",
      "35\n",
      "37\n",
      "39\n",
      "41\n",
      "43\n",
      "45\n",
      "47\n",
      "49\n",
      "end\n"
     ]
    }
   ],
   "source": [
    "for i in range(1,51):\n",
    "    if i % 2 == 0:\n",
    "        pass\n",
    "    else:\n",
    "        print(i)\n",
    "print(\"end\")"
   ]
  },
  {
   "cell_type": "code",
   "execution_count": 52,
   "id": "8597ac58-f49f-4d03-8444-a88a4841cc88",
   "metadata": {},
   "outputs": [
    {
     "name": "stdout",
     "output_type": "stream",
     "text": [
      "* * * * "
     ]
    }
   ],
   "source": [
    "for i in range(4):\n",
    "    print(\"*\", end = \" \")"
   ]
  },
  {
   "cell_type": "code",
   "execution_count": 54,
   "id": "5fc963ca-0c87-48a3-823e-8c8bc8949ee1",
   "metadata": {},
   "outputs": [
    {
     "name": "stdout",
     "output_type": "stream",
     "text": [
      "* * * * \n",
      "* * * * "
     ]
    }
   ],
   "source": [
    "for i in range(4):\n",
    "     print(\"*\", end = \" \")\n",
    "print()\n",
    "\n",
    "for i in range(4):\n",
    "    print(\"*\", end = \" \")"
   ]
  },
  {
   "cell_type": "code",
   "execution_count": 57,
   "id": "dab08ff4-d202-4ad7-8104-d4bba5d656ad",
   "metadata": {},
   "outputs": [
    {
     "name": "stdout",
     "output_type": "stream",
     "text": [
      "* * * * \n",
      "* * * * \n",
      "* * * * \n",
      "* * * * \n"
     ]
    }
   ],
   "source": [
    "for i in range(4):\n",
    "     print(\"*\", end = \" \")\n",
    "print()\n",
    "\n",
    "for i in range(4):\n",
    "    print(\"*\", end = \" \")\n",
    "print()\n",
    "\n",
    "for i in range(4):\n",
    "     print(\"*\", end = \" \")\n",
    "print()\n",
    "\n",
    "for i in range(4):\n",
    "    print(\"*\", end = \" \")\n",
    "print()"
   ]
  },
  {
   "cell_type": "code",
   "execution_count": 59,
   "id": "aa7f3452-bd1f-452a-8e08-8eb6b750f8eb",
   "metadata": {},
   "outputs": [
    {
     "name": "stdout",
     "output_type": "stream",
     "text": [
      "* * * * \n",
      "* * * * \n",
      "* * * * \n",
      "* * * * \n"
     ]
    }
   ],
   "source": [
    "for i in range(4):\n",
    "    for j in range(4):\n",
    "        print(\"*\", end = \" \")\n",
    "    print()"
   ]
  },
  {
   "cell_type": "code",
   "execution_count": null,
   "id": "bf17583a-42bf-428a-be23-71449d696576",
   "metadata": {},
   "outputs": [],
   "source": []
  }
 ],
 "metadata": {
  "kernelspec": {
   "display_name": "Python 3 (ipykernel)",
   "language": "python",
   "name": "python3"
  },
  "language_info": {
   "codemirror_mode": {
    "name": "ipython",
    "version": 3
   },
   "file_extension": ".py",
   "mimetype": "text/x-python",
   "name": "python",
   "nbconvert_exporter": "python",
   "pygments_lexer": "ipython3",
   "version": "3.12.7"
  }
 },
 "nbformat": 4,
 "nbformat_minor": 5
}
