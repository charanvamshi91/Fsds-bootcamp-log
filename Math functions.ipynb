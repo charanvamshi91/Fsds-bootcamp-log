{
 "cells": [
  {
   "cell_type": "markdown",
   "id": "cf85363c-5263-4ffe-b627-096567530d79",
   "metadata": {},
   "source": [
    "# Mathematical functions in python"
   ]
  },
  {
   "cell_type": "markdown",
   "id": "8ee1988a-4c75-448d-ac47-fc04eb6becb2",
   "metadata": {},
   "source": [
    "- Math functions in Python refer to a set of pre-defined functions provided by the math module, which allow users to perform various mathematical operations"
   ]
  },
  {
   "cell_type": "markdown",
   "id": "a5cbff93-92fa-473e-b4ea-ed0ce5da2c36",
   "metadata": {},
   "source": [
    "https://docs.python.org/3/library/math.html #here is the all math function in python"
   ]
  },
  {
   "cell_type": "markdown",
   "id": "d9fe1bf1-73e0-4c56-8751-9b34c160660a",
   "metadata": {},
   "source": [
    "# Sqrt() function\n",
    "- returns the square root of a number\n",
    "- Real-Time Example: Distance Calculation"
   ]
  },
  {
   "cell_type": "code",
   "execution_count": 1,
   "id": "f1dd6155-8562-43b3-9f6e-877f2c5c4e07",
   "metadata": {},
   "outputs": [
    {
     "ename": "NameError",
     "evalue": "name 'sqrt' is not defined",
     "output_type": "error",
     "traceback": [
      "\u001b[1;31m---------------------------------------------------------------------------\u001b[0m",
      "\u001b[1;31mNameError\u001b[0m                                 Traceback (most recent call last)",
      "Cell \u001b[1;32mIn[1], line 1\u001b[0m\n\u001b[1;32m----> 1\u001b[0m x \u001b[38;5;241m=\u001b[39m sqrt(\u001b[38;5;241m25\u001b[39m)\n\u001b[0;32m      2\u001b[0m x\n",
      "\u001b[1;31mNameError\u001b[0m: name 'sqrt' is not defined"
     ]
    }
   ],
   "source": [
    "x = sqrt(25) # it gives the errror coz \"sqrt\" is amth function, we didn't import math function\n",
    "x"
   ]
  },
  {
   "cell_type": "code",
   "execution_count": 2,
   "id": "36d4db8a-4483-491e-a8a6-4dea9e9438f7",
   "metadata": {},
   "outputs": [],
   "source": [
    "import math #importing math function"
   ]
  },
  {
   "cell_type": "code",
   "execution_count": 3,
   "id": "c9ec8858-2dd7-44f1-841b-b81636954023",
   "metadata": {},
   "outputs": [
    {
     "data": {
      "text/plain": [
       "5.0"
      ]
     },
     "execution_count": 3,
     "metadata": {},
     "output_type": "execute_result"
    }
   ],
   "source": [
    "x = math.sqrt(25) # square root of 25\n",
    "x"
   ]
  },
  {
   "cell_type": "code",
   "execution_count": 4,
   "id": "5a311bb8-66ee-41b2-9b30-404dc6593382",
   "metadata": {},
   "outputs": [
    {
     "data": {
      "text/plain": [
       "3.872983346207417"
      ]
     },
     "execution_count": 4,
     "metadata": {},
     "output_type": "execute_result"
    }
   ],
   "source": [
    "y = math.sqrt(15) # square root of 15\n",
    "y"
   ]
  },
  {
   "cell_type": "markdown",
   "id": "1d4582da-e8b4-4a34-a1c8-c4c257504797",
   "metadata": {},
   "source": [
    "# Floor() function \n",
    "-  returns the number which is less than or equal to x\n",
    "-  Real-Time Example: Rounding Down Price"
   ]
  },
  {
   "cell_type": "code",
   "execution_count": 7,
   "id": "a0d9d145-227f-4a18-bdb4-6470971a65f2",
   "metadata": {},
   "outputs": [
    {
     "name": "stdout",
     "output_type": "stream",
     "text": [
      "3\n"
     ]
    }
   ],
   "source": [
    "print(math.floor(3.9)) # here it returns the 3, coz floor fuction always returns the lowest number of given input"
   ]
  },
  {
   "cell_type": "markdown",
   "id": "c5f7eb38-facd-4954-a35c-7db7effc3cd8",
   "metadata": {},
   "source": [
    "# ceil() function \n",
    "-  returns the number, which is greater than or equal to x\n",
    "-  Real-Time Example: Rounding Up Delivery Time"
   ]
  },
  {
   "cell_type": "code",
   "execution_count": 9,
   "id": "b60bb046-02e9-4b73-ba65-12ddac1e72ae",
   "metadata": {},
   "outputs": [
    {
     "name": "stdout",
     "output_type": "stream",
     "text": [
      "5\n"
     ]
    }
   ],
   "source": [
    "print(math.ceil(4.9)) #here ceil function returns the highest value which is greater and nearest to the given input"
   ]
  },
  {
   "cell_type": "markdown",
   "id": "1632d707-49c5-4527-8041-b14e0a47d4dc",
   "metadata": {},
   "source": [
    "# pow() function\n",
    "- returns x raised to the power y (x^y)\n",
    "- Real-Time Example : Finance: Used to calculate compound interest."
   ]
  },
  {
   "cell_type": "code",
   "execution_count": 10,
   "id": "a31f1f36-132f-4aa6-8550-0b0885ddb699",
   "metadata": {},
   "outputs": [
    {
     "name": "stdout",
     "output_type": "stream",
     "text": [
      "8.0\n"
     ]
    }
   ],
   "source": [
    "print(math.pow(2,3)) # it returns the value 2 power of 3, which is \"8\""
   ]
  },
  {
   "cell_type": "markdown",
   "id": "79f4a76e-9729-4e93-a2a8-385306b9ce67",
   "metadata": {},
   "source": [
    "# math functions with constant values (doesn't vary)\n",
    "- pi (gives the mathematical constant π (pi))\n",
    "- e (gives the Euler’s number)"
   ]
  },
  {
   "cell_type": "code",
   "execution_count": 11,
   "id": "baffa95a-b85f-42c7-a79f-94a6a87e2029",
   "metadata": {},
   "outputs": [
    {
     "name": "stdout",
     "output_type": "stream",
     "text": [
      "3.141592653589793\n"
     ]
    }
   ],
   "source": [
    "print(math.pi) #these are constant"
   ]
  },
  {
   "cell_type": "code",
   "execution_count": 12,
   "id": "49870eb4-d76d-4275-b4b4-992910a01cd7",
   "metadata": {},
   "outputs": [
    {
     "name": "stdout",
     "output_type": "stream",
     "text": [
      "2.718281828459045\n"
     ]
    }
   ],
   "source": [
    "print(math.e) #these are constant"
   ]
  },
  {
   "cell_type": "markdown",
   "id": "7f11db01-7cf1-4c3f-95e8-9f4a7dd6b55d",
   "metadata": {},
   "source": [
    "# optimizing codes\n",
    "- here we can import the function, and can give it a alias name\n",
    "- we can import multiple function from math library in a single code line"
   ]
  },
  {
   "cell_type": "code",
   "execution_count": 14,
   "id": "a9118b11-2077-4a6d-bc30-310b24844673",
   "metadata": {},
   "outputs": [
    {
     "data": {
      "text/plain": [
       "7.0710678118654755"
      ]
     },
     "execution_count": 14,
     "metadata": {},
     "output_type": "execute_result"
    }
   ],
   "source": [
    "# here math is imported as 'm'\n",
    "import math as m\n",
    "m.sqrt(50)"
   ]
  },
  {
   "cell_type": "code",
   "execution_count": 16,
   "id": "142e3efa-e944-4689-a693-958a8c351b4d",
   "metadata": {},
   "outputs": [
    {
     "data": {
      "text/plain": [
       "81.0"
      ]
     },
     "execution_count": 16,
     "metadata": {},
     "output_type": "execute_result"
    }
   ],
   "source": [
    "# here we can import multiple functions as shown in below code\n",
    "from math import sqrt,pow # math is a library, sqrt, pow and etc... are funtions\n",
    "pow(3,4)"
   ]
  },
  {
   "cell_type": "markdown",
   "id": "3bb72984-364f-490c-9ebc-23440f11acbb",
   "metadata": {},
   "source": [
    "# round() function\n",
    "-  returns the value of x rounded to n decimal places. If n is not specified, it rounds to the nearest integer\n",
    "-  Real-Time Example : Finance = Used to round prices or costs to the nearest decimal "
   ]
  },
  {
   "cell_type": "code",
   "execution_count": 18,
   "id": "e3812c1a-b06d-4515-ba4e-8039400b4460",
   "metadata": {},
   "outputs": [
    {
     "data": {
      "text/plain": [
       "8.0"
      ]
     },
     "execution_count": 18,
     "metadata": {},
     "output_type": "execute_result"
    }
   ],
   "source": [
    "pow(2,3) # here it returns the value '8.0'"
   ]
  },
  {
   "cell_type": "code",
   "execution_count": 19,
   "id": "e614024f-cddb-49f0-b595-20822b212047",
   "metadata": {},
   "outputs": [
    {
     "data": {
      "text/plain": [
       "8"
      ]
     },
     "execution_count": 19,
     "metadata": {},
     "output_type": "execute_result"
    }
   ],
   "source": [
    "round(pow(2,3)) # here it returns the value '8', coz of round() function"
   ]
  },
  {
   "cell_type": "markdown",
   "id": "b8eeac6c-e549-4b8a-8b95-59cd90e52172",
   "metadata": {},
   "source": [
    "# Input() function\n",
    "- a built-in function in Python used for user input. It allows you to take data from the user (e.g., text, numbers) as a string."
   ]
  },
  {
   "cell_type": "code",
   "execution_count": 21,
   "id": "c2d42111-ae60-40c9-ae92-f9abfd4393d6",
   "metadata": {},
   "outputs": [
    {
     "name": "stdin",
     "output_type": "stream",
     "text": [
      " 5\n",
      " 6\n"
     ]
    },
    {
     "name": "stdout",
     "output_type": "stream",
     "text": [
      "56\n"
     ]
    }
   ],
   "source": [
    "# input() function always take the input in the string data type, so it returns \"56\". insterd of \"11\"\n",
    "x = input()\n",
    "y = input()\n",
    "z = x + y\n",
    "print(z) # console is waiting for user to enter input"
   ]
  },
  {
   "cell_type": "code",
   "execution_count": 22,
   "id": "01892df5-0126-4279-942c-c4f86e95252d",
   "metadata": {},
   "outputs": [
    {
     "name": "stdin",
     "output_type": "stream",
     "text": [
      "Enter the 1st number 5\n",
      "Enter the 2nd number 6\n"
     ]
    },
    {
     "name": "stdout",
     "output_type": "stream",
     "text": [
      "56\n"
     ]
    }
   ],
   "source": [
    "x1 = input('Enter the 1st number') # writing for better user understanding \n",
    "y1 = input('Enter the 2nd number') \n",
    "z1 = x1 + y1\n",
    "print(z1)\n"
   ]
  },
  {
   "cell_type": "code",
   "execution_count": 24,
   "id": "238320e9-8ae6-474b-950f-9a3910641137",
   "metadata": {},
   "outputs": [
    {
     "name": "stdout",
     "output_type": "stream",
     "text": [
      "<class 'str'>\n",
      "<class 'str'>\n"
     ]
    }
   ],
   "source": [
    "print(type(x1))\n",
    "print(type(y1))"
   ]
  },
  {
   "cell_type": "code",
   "execution_count": 26,
   "id": "74f24e79-5873-4b02-b323-a7244444ad9a",
   "metadata": {},
   "outputs": [
    {
     "name": "stdin",
     "output_type": "stream",
     "text": [
      "Enter the 1st number 5\n",
      "Enter the 2nd number 6\n"
     ]
    },
    {
     "name": "stdout",
     "output_type": "stream",
     "text": [
      "11\n"
     ]
    }
   ],
   "source": [
    "# here we are type casting the user input into INT data tyoe, brfore it execute \n",
    "# sting to int (type casting / type conversion), then it returns \"11\"\n",
    "x1 = input('Enter the 1st number')\n",
    "a1 = int(x1)\n",
    "y1 = input('Enter the 2nd number') \n",
    "b1 = int(y1)\n",
    "z1 = a1 + b1\n",
    "print(z1)"
   ]
  },
  {
   "cell_type": "code",
   "execution_count": 27,
   "id": "e0f2e93c-fbe4-4d86-9db2-0a3524e845dd",
   "metadata": {},
   "outputs": [
    {
     "name": "stdin",
     "output_type": "stream",
     "text": [
      "Enter the 1st number 5\n",
      "Enter the 2nd number 6\n"
     ]
    },
    {
     "data": {
      "text/plain": [
       "11"
      ]
     },
     "execution_count": 27,
     "metadata": {},
     "output_type": "execute_result"
    }
   ],
   "source": [
    "# optimizing the above code\n",
    "x2 = int(input('Enter the 1st number'))\n",
    "y2 = int(input('Enter the 2nd number'))\n",
    "z2 = x2 + y2\n",
    "z2"
   ]
  },
  {
   "cell_type": "code",
   "execution_count": 28,
   "id": "1df40129-2d65-4355-b7cc-1273134e52d1",
   "metadata": {},
   "outputs": [
    {
     "name": "stdin",
     "output_type": "stream",
     "text": [
      "enter a char hey, what's up!?\n"
     ]
    },
    {
     "data": {
      "text/plain": [
       "\"hey, what's up!?\""
      ]
     },
     "execution_count": 28,
     "metadata": {},
     "output_type": "execute_result"
    }
   ],
   "source": [
    "# taking the input from the user\n",
    "ch = input('enter a char')\n",
    "ch"
   ]
  },
  {
   "cell_type": "code",
   "execution_count": 30,
   "id": "f75d4fd4-a6dc-431f-9d90-868c7d54875a",
   "metadata": {},
   "outputs": [
    {
     "name": "stdout",
     "output_type": "stream",
     "text": [
      "h\n"
     ]
    }
   ],
   "source": [
    "#indexing of the given input\n",
    "print(ch[0]) # value of 0th index of given input"
   ]
  },
  {
   "cell_type": "code",
   "execution_count": 31,
   "id": "abd3ad52-206b-4e8f-8dae-8e5eae05dea1",
   "metadata": {},
   "outputs": [
    {
     "name": "stdout",
     "output_type": "stream",
     "text": [
      "e\n"
     ]
    }
   ],
   "source": [
    "print(ch[1])"
   ]
  },
  {
   "cell_type": "code",
   "execution_count": 32,
   "id": "2e9d9612-d066-43b8-9f61-8816349fe69c",
   "metadata": {},
   "outputs": [
    {
     "name": "stdout",
     "output_type": "stream",
     "text": [
      "?\n"
     ]
    }
   ],
   "source": [
    "print(ch[-1])"
   ]
  },
  {
   "cell_type": "code",
   "execution_count": 34,
   "id": "7fd7629e-3f41-4bf1-bdaa-491511aecf15",
   "metadata": {},
   "outputs": [
    {
     "name": "stdin",
     "output_type": "stream",
     "text": [
      "enter a char :  hey, what's up!?\n"
     ]
    },
    {
     "name": "stdout",
     "output_type": "stream",
     "text": [
      "h\n"
     ]
    }
   ],
   "source": [
    "# here we directly print the index value by calling the index number\n",
    "ch = input('enter a char : ')[0]\n",
    "print(ch)"
   ]
  },
  {
   "cell_type": "code",
   "execution_count": 35,
   "id": "2229409f-8156-441b-b727-de9038f6cc3f",
   "metadata": {},
   "outputs": [
    {
     "name": "stdin",
     "output_type": "stream",
     "text": [
      "enter a char :  hey, what's up!?\n"
     ]
    },
    {
     "name": "stdout",
     "output_type": "stream",
     "text": [
      "ey\n"
     ]
    }
   ],
   "source": [
    "# here, we are using the slicing of given input\n",
    "ch = input('enter a char : ')[1:3]\n",
    "print(ch)"
   ]
  },
  {
   "cell_type": "code",
   "execution_count": 37,
   "id": "ef818af0-e6ba-4296-9698-661972fa6664",
   "metadata": {},
   "outputs": [
    {
     "name": "stdin",
     "output_type": "stream",
     "text": [
      "enter a char 2 + 3 + 4 + 5\n"
     ]
    },
    {
     "name": "stdout",
     "output_type": "stream",
     "text": [
      "2 + 3 + 4 + 5\n"
     ]
    }
   ],
   "source": [
    "ch = input('enter a char')\n",
    "print(ch)"
   ]
  },
  {
   "cell_type": "markdown",
   "id": "deb01e0a-026e-484e-aba4-1375f3b03d40",
   "metadata": {},
   "source": [
    "- NOTE : we can't get the result of an expression, for result : use EVAL FUNCTION"
   ]
  },
  {
   "cell_type": "markdown",
   "id": "a14facc6-241c-4804-8ac6-17fad920ba0a",
   "metadata": {},
   "source": [
    "# eval() Function\n",
    "- a built-in Python function that evaluates and runs a string as a Python expression."
   ]
  },
  {
   "cell_type": "code",
   "execution_count": 38,
   "id": "a8fb40e6-38a9-4de3-97fd-f5ebc641b960",
   "metadata": {},
   "outputs": [
    {
     "name": "stdin",
     "output_type": "stream",
     "text": [
      "enter an expr 2 + 3 + 4 + 5\n"
     ]
    },
    {
     "name": "stdout",
     "output_type": "stream",
     "text": [
      "14\n"
     ]
    }
   ],
   "source": [
    "result = eval(input('enter an expr'))\n",
    "print(result)"
   ]
  },
  {
   "cell_type": "code",
   "execution_count": null,
   "id": "f3fa4ff0-ac06-49d0-8b7b-573dc9be467a",
   "metadata": {},
   "outputs": [],
   "source": []
  }
 ],
 "metadata": {
  "kernelspec": {
   "display_name": "Python 3 (ipykernel)",
   "language": "python",
   "name": "python3"
  },
  "language_info": {
   "codemirror_mode": {
    "name": "ipython",
    "version": 3
   },
   "file_extension": ".py",
   "mimetype": "text/x-python",
   "name": "python",
   "nbconvert_exporter": "python",
   "pygments_lexer": "ipython3",
   "version": "3.12.7"
  }
 },
 "nbformat": 4,
 "nbformat_minor": 5
}
