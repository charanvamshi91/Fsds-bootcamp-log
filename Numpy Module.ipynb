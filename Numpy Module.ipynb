{
 "cells": [
  {
   "cell_type": "markdown",
   "id": "64d7f9df-d028-4be0-b220-a2cb4bd8b844",
   "metadata": {},
   "source": [
    "# NUMPY MODULE / LIBRARY "
   ]
  },
  {
   "cell_type": "code",
   "execution_count": 2,
   "id": "c0e0626b-8d69-4d5b-9829-d262eabd3234",
   "metadata": {},
   "outputs": [],
   "source": [
    "import numpy as np"
   ]
  },
  {
   "cell_type": "code",
   "execution_count": 3,
   "id": "f21e78aa-e511-4268-ab5b-810f5091fbef",
   "metadata": {},
   "outputs": [
    {
     "data": {
      "text/plain": [
       "<module 'numpy.version' from 'C:\\\\Users\\\\chara\\\\anaconda3\\\\Lib\\\\site-packages\\\\numpy\\\\version.py'>"
      ]
     },
     "execution_count": 3,
     "metadata": {},
     "output_type": "execute_result"
    }
   ],
   "source": [
    "np.version"
   ]
  },
  {
   "cell_type": "code",
   "execution_count": 4,
   "id": "d7b73618-ee68-4e00-a9a0-4ffd6afb392b",
   "metadata": {},
   "outputs": [
    {
     "data": {
      "text/plain": [
       "'1.26.4'"
      ]
     },
     "execution_count": 4,
     "metadata": {},
     "output_type": "execute_result"
    }
   ],
   "source": [
    "np.__version__ # to check the version of module"
   ]
  },
  {
   "cell_type": "code",
   "execution_count": 5,
   "id": "c5ade94e-bad7-43bb-846a-5de93eebada4",
   "metadata": {},
   "outputs": [
    {
     "data": {
      "text/plain": [
       "'3.12.7 | packaged by Anaconda, Inc. | (main, Oct  4 2024, 13:17:27) [MSC v.1929 64 bit (AMD64)]'"
      ]
     },
     "execution_count": 5,
     "metadata": {},
     "output_type": "execute_result"
    }
   ],
   "source": [
    "import sys\n",
    "sys.version"
   ]
  },
  {
   "cell_type": "markdown",
   "id": "be362b4d-144d-48d1-823e-3495758fa4a4",
   "metadata": {},
   "source": [
    "# Creating LIST"
   ]
  },
  {
   "cell_type": "code",
   "execution_count": 6,
   "id": "acfc4ba9-b125-4663-ba07-c760fab067de",
   "metadata": {},
   "outputs": [
    {
     "data": {
      "text/plain": [
       "[0, 1, 2, 3, 4, 5]"
      ]
     },
     "execution_count": 6,
     "metadata": {},
     "output_type": "execute_result"
    }
   ],
   "source": [
    "my_list = [0,1,2,3,4,5]\n",
    "my_list"
   ]
  },
  {
   "cell_type": "code",
   "execution_count": 7,
   "id": "9055fadc-cda1-41eb-a5b5-515c99607252",
   "metadata": {},
   "outputs": [
    {
     "data": {
      "text/plain": [
       "list"
      ]
     },
     "execution_count": 7,
     "metadata": {},
     "output_type": "execute_result"
    }
   ],
   "source": [
    "type(my_list) #returns type of data type"
   ]
  },
  {
   "cell_type": "markdown",
   "id": "fbabc06f-91ff-403b-bdb1-c5e725d31f68",
   "metadata": {},
   "source": [
    "# converting list to array"
   ]
  },
  {
   "cell_type": "code",
   "execution_count": 8,
   "id": "ee568816-00c9-4826-9d96-6b6e7278a08e",
   "metadata": {},
   "outputs": [],
   "source": [
    "arr = np.array(my_list)"
   ]
  },
  {
   "cell_type": "code",
   "execution_count": 9,
   "id": "644bbb19-e569-418c-a91c-82e4dcb9f096",
   "metadata": {},
   "outputs": [
    {
     "data": {
      "text/plain": [
       "array([0, 1, 2, 3, 4, 5])"
      ]
     },
     "execution_count": 9,
     "metadata": {},
     "output_type": "execute_result"
    }
   ],
   "source": [
    "arr"
   ]
  },
  {
   "cell_type": "code",
   "execution_count": 10,
   "id": "815e6839-3dad-42ee-a0de-ad52e95a3a73",
   "metadata": {},
   "outputs": [
    {
     "data": {
      "text/plain": [
       "numpy.ndarray"
      ]
     },
     "execution_count": 10,
     "metadata": {},
     "output_type": "execute_result"
    }
   ],
   "source": [
    "type(arr)"
   ]
  },
  {
   "cell_type": "markdown",
   "id": "c3099149-c5cb-477b-a376-d41f188d4e25",
   "metadata": {},
   "source": [
    "# arange() function\n",
    "- arange() is a function in the NumPy library that returns an array with evenly spaced values within a given range."
   ]
  },
  {
   "cell_type": "code",
   "execution_count": 11,
   "id": "01694ab6-3f16-4862-94f5-9a46d367d09b",
   "metadata": {},
   "outputs": [
    {
     "data": {
      "text/plain": [
       "array([0, 1, 2, 3, 4, 5, 6, 7, 8, 9])"
      ]
     },
     "execution_count": 11,
     "metadata": {},
     "output_type": "execute_result"
    }
   ],
   "source": [
    "np.arange(10)"
   ]
  },
  {
   "cell_type": "code",
   "execution_count": 12,
   "id": "d708bfa0-6f17-4f28-a435-5a0bd1740d81",
   "metadata": {},
   "outputs": [
    {
     "data": {
      "text/plain": [
       "array([0., 1., 2.])"
      ]
     },
     "execution_count": 12,
     "metadata": {},
     "output_type": "execute_result"
    }
   ],
   "source": [
    "np.arange(3.0)"
   ]
  },
  {
   "cell_type": "code",
   "execution_count": 13,
   "id": "285269fb-a379-476e-9a44-86bff5cb3097",
   "metadata": {},
   "outputs": [
    {
     "data": {
      "text/plain": [
       "array([0, 1, 2, 3, 4, 5, 6, 7, 8])"
      ]
     },
     "execution_count": 13,
     "metadata": {},
     "output_type": "execute_result"
    }
   ],
   "source": [
    "np.arange(9)"
   ]
  },
  {
   "cell_type": "code",
   "execution_count": 14,
   "id": "ea012b40-091a-40ee-a7df-954dca932567",
   "metadata": {},
   "outputs": [
    {
     "data": {
      "text/plain": [
       "array([0, 1, 2, 3, 4])"
      ]
     },
     "execution_count": 14,
     "metadata": {},
     "output_type": "execute_result"
    }
   ],
   "source": [
    "np.arange(0,5)"
   ]
  },
  {
   "cell_type": "code",
   "execution_count": 15,
   "id": "58ea5f02-716d-4561-9ecf-746f4a39ca82",
   "metadata": {},
   "outputs": [
    {
     "data": {
      "text/plain": [
       "array([10, 11, 12, 13, 14, 15, 16, 17, 18, 19])"
      ]
     },
     "execution_count": 15,
     "metadata": {},
     "output_type": "execute_result"
    }
   ],
   "source": [
    "np.arange(10,20)"
   ]
  },
  {
   "cell_type": "code",
   "execution_count": 16,
   "id": "9250d488-9296-44fc-bfec-2528fb64eb10",
   "metadata": {},
   "outputs": [
    {
     "data": {
      "text/plain": [
       "array([], dtype=int32)"
      ]
     },
     "execution_count": 16,
     "metadata": {},
     "output_type": "execute_result"
    }
   ],
   "source": [
    "np.arange(20,10)"
   ]
  },
  {
   "cell_type": "code",
   "execution_count": 17,
   "id": "39263c9f-aef5-4b3e-b857-1349ac6cd4d5",
   "metadata": {},
   "outputs": [
    {
     "data": {
      "text/plain": [
       "array([-20, -19, -18, -17, -16, -15, -14, -13, -12, -11, -10,  -9,  -8,\n",
       "        -7,  -6,  -5,  -4,  -3,  -2,  -1,   0,   1,   2,   3,   4,   5,\n",
       "         6,   7,   8,   9])"
      ]
     },
     "execution_count": 17,
     "metadata": {},
     "output_type": "execute_result"
    }
   ],
   "source": [
    "np.arange(-20,10)"
   ]
  },
  {
   "cell_type": "code",
   "execution_count": 18,
   "id": "bc8ab1cd-5e02-4952-8af2-7fff29a019aa",
   "metadata": {},
   "outputs": [
    {
     "data": {
      "text/plain": [
       "array([-30, -29, -28, -27, -26, -25, -24, -23, -22, -21, -20, -19, -18,\n",
       "       -17, -16, -15, -14, -13, -12, -11, -10,  -9,  -8,  -7,  -6,  -5,\n",
       "        -4,  -3,  -2,  -1,   0,   1,   2,   3,   4,   5,   6,   7,   8,\n",
       "         9,  10,  11,  12,  13,  14,  15,  16,  17,  18,  19])"
      ]
     },
     "execution_count": 18,
     "metadata": {},
     "output_type": "execute_result"
    }
   ],
   "source": [
    "ar = np.arange(-30,20) \n",
    "ar"
   ]
  },
  {
   "cell_type": "markdown",
   "id": "6c860842-704a-43d7-bca7-601e1b06747c",
   "metadata": {},
   "source": [
    "# zeros() function\n",
    "- zeros() is a function in the NumPy library that creates an array filled with all zeros.\n",
    "- PARAMETER TUNING : system uses its own parameters\n",
    "- HYPERPARAMETER TUNING : user changes the system parameters"
   ]
  },
  {
   "cell_type": "code",
   "execution_count": 20,
   "id": "aeb97b7d-5f8f-4df0-8efa-dd694f167753",
   "metadata": {},
   "outputs": [
    {
     "data": {
      "text/plain": [
       "array([0., 0., 0., 0., 0., 0., 0., 0., 0., 0.])"
      ]
     },
     "execution_count": 20,
     "metadata": {},
     "output_type": "execute_result"
    }
   ],
   "source": [
    "np.zeros(10) # parameter tuning - sys use its own parameter"
   ]
  },
  {
   "cell_type": "code",
   "execution_count": 21,
   "id": "449e1229-e890-4a59-98c9-3d2e120ca97f",
   "metadata": {},
   "outputs": [
    {
     "data": {
      "text/plain": [
       "array([0, 0, 0, 0, 0, 0, 0, 0, 0, 0])"
      ]
     },
     "execution_count": 21,
     "metadata": {},
     "output_type": "execute_result"
    }
   ],
   "source": [
    "np.zeros(10,dtype = int) # hyperparameter tuning - user change the sys parameters"
   ]
  },
  {
   "cell_type": "code",
   "execution_count": 22,
   "id": "e6d1ad25-196c-4a3a-8c11-07ee48648abf",
   "metadata": {},
   "outputs": [
    {
     "data": {
      "text/plain": [
       "array([[0, 0],\n",
       "       [0, 0]])"
      ]
     },
     "execution_count": 22,
     "metadata": {},
     "output_type": "execute_result"
    }
   ],
   "source": [
    "np.zeros((2,2), dtype = int) # 2D ARRAY"
   ]
  },
  {
   "cell_type": "code",
   "execution_count": 23,
   "id": "d2eb9bdc-e480-4701-acf9-1bc70aece308",
   "metadata": {},
   "outputs": [
    {
     "data": {
      "text/plain": [
       "array([[0, 0, 0],\n",
       "       [0, 0, 0],\n",
       "       [0, 0, 0]])"
      ]
     },
     "execution_count": 23,
     "metadata": {},
     "output_type": "execute_result"
    }
   ],
   "source": [
    "np.zeros((3,3), dtype = int)  # 3D ARRAY"
   ]
  },
  {
   "cell_type": "code",
   "execution_count": 24,
   "id": "8e198b11-1a8d-486d-ac55-7533a14056ad",
   "metadata": {},
   "outputs": [
    {
     "data": {
      "text/plain": [
       "array([[0, 0, 0, 0, 0, 0, 0, 0, 0, 0],\n",
       "       [0, 0, 0, 0, 0, 0, 0, 0, 0, 0]])"
      ]
     },
     "execution_count": 24,
     "metadata": {},
     "output_type": "execute_result"
    }
   ],
   "source": [
    "np.zeros((2,10), dtype = int) "
   ]
  },
  {
   "cell_type": "code",
   "execution_count": 25,
   "id": "08930c3d-9d77-4cf1-8b04-4bf685353b85",
   "metadata": {},
   "outputs": [
    {
     "data": {
      "text/plain": [
       "array([[0, 0, 0, 0, 0, 0, 0, 0, 0, 0],\n",
       "       [0, 0, 0, 0, 0, 0, 0, 0, 0, 0],\n",
       "       [0, 0, 0, 0, 0, 0, 0, 0, 0, 0],\n",
       "       [0, 0, 0, 0, 0, 0, 0, 0, 0, 0],\n",
       "       [0, 0, 0, 0, 0, 0, 0, 0, 0, 0],\n",
       "       [0, 0, 0, 0, 0, 0, 0, 0, 0, 0],\n",
       "       [0, 0, 0, 0, 0, 0, 0, 0, 0, 0],\n",
       "       [0, 0, 0, 0, 0, 0, 0, 0, 0, 0],\n",
       "       [0, 0, 0, 0, 0, 0, 0, 0, 0, 0],\n",
       "       [0, 0, 0, 0, 0, 0, 0, 0, 0, 0]])"
      ]
     },
     "execution_count": 25,
     "metadata": {},
     "output_type": "execute_result"
    }
   ],
   "source": [
    "np.zeros((10,10), dtype = int) # nD ARRAY"
   ]
  },
  {
   "cell_type": "markdown",
   "id": "34ceb537-58d9-4dbb-b4c8-39be2edde322",
   "metadata": {},
   "source": [
    "# ones() function\n",
    "- ones() is a function in the NumPy library that creates an array filled with all ones."
   ]
  },
  {
   "cell_type": "code",
   "execution_count": 26,
   "id": "3c9b4b55-564f-4db7-9181-07bcc74d6e2f",
   "metadata": {},
   "outputs": [
    {
     "data": {
      "text/plain": [
       "array([1., 1., 1.])"
      ]
     },
     "execution_count": 26,
     "metadata": {},
     "output_type": "execute_result"
    }
   ],
   "source": [
    "np.ones(3)"
   ]
  },
  {
   "cell_type": "code",
   "execution_count": 27,
   "id": "3b991772-3324-4b93-b945-5ecc5165507a",
   "metadata": {},
   "outputs": [
    {
     "data": {
      "text/plain": [
       "array([[1, 1, 1],\n",
       "       [1, 1, 1],\n",
       "       [1, 1, 1]])"
      ]
     },
     "execution_count": 27,
     "metadata": {},
     "output_type": "execute_result"
    }
   ],
   "source": [
    "np.ones((3,3),dtype = int)"
   ]
  },
  {
   "cell_type": "code",
   "execution_count": 53,
   "id": "95b18b29-b1c2-478c-a69e-afbc688b0920",
   "metadata": {},
   "outputs": [
    {
     "ename": "AttributeError",
     "evalue": "module 'numpy' has no attribute 'three'",
     "output_type": "error",
     "traceback": [
      "\u001b[1;31m---------------------------------------------------------------------------\u001b[0m",
      "\u001b[1;31mAttributeError\u001b[0m                            Traceback (most recent call last)",
      "Cell \u001b[1;32mIn[53], line 1\u001b[0m\n\u001b[1;32m----> 1\u001b[0m np\u001b[38;5;241m.\u001b[39mthree((\u001b[38;5;241m2\u001b[39m,\u001b[38;5;241m2\u001b[39m))\n",
      "File \u001b[1;32m~\\anaconda3\\Lib\\site-packages\\numpy\\__init__.py:333\u001b[0m, in \u001b[0;36m__getattr__\u001b[1;34m(attr)\u001b[0m\n\u001b[0;32m    330\u001b[0m     \u001b[38;5;124m\"\u001b[39m\u001b[38;5;124mRemoved in NumPy 1.25.0\u001b[39m\u001b[38;5;124m\"\u001b[39m\n\u001b[0;32m    331\u001b[0m     \u001b[38;5;28;01mraise\u001b[39;00m \u001b[38;5;167;01mRuntimeError\u001b[39;00m(\u001b[38;5;124m\"\u001b[39m\u001b[38;5;124mTester was removed in NumPy 1.25.\u001b[39m\u001b[38;5;124m\"\u001b[39m)\n\u001b[1;32m--> 333\u001b[0m \u001b[38;5;28;01mraise\u001b[39;00m \u001b[38;5;167;01mAttributeError\u001b[39;00m(\u001b[38;5;124m\"\u001b[39m\u001b[38;5;124mmodule \u001b[39m\u001b[38;5;132;01m{!r}\u001b[39;00m\u001b[38;5;124m has no attribute \u001b[39m\u001b[38;5;124m\"\u001b[39m\n\u001b[0;32m    334\u001b[0m                      \u001b[38;5;124m\"\u001b[39m\u001b[38;5;132;01m{!r}\u001b[39;00m\u001b[38;5;124m\"\u001b[39m\u001b[38;5;241m.\u001b[39mformat(\u001b[38;5;18m__name__\u001b[39m, attr))\n",
      "\u001b[1;31mAttributeError\u001b[0m: module 'numpy' has no attribute 'three'"
     ]
    }
   ],
   "source": [
    "np.three((2,2)) # only zeros and ones will work"
   ]
  },
  {
   "cell_type": "markdown",
   "id": "ba362a69-9413-47eb-a79b-664466e10a89",
   "metadata": {},
   "source": [
    "- its an error, coz there is no three() function in numpy module/library "
   ]
  },
  {
   "cell_type": "code",
   "execution_count": 54,
   "id": "1aa793d2-5406-4803-96ce-7f153f39f892",
   "metadata": {},
   "outputs": [
    {
     "ename": "NameError",
     "evalue": "name 'rand' is not defined",
     "output_type": "error",
     "traceback": [
      "\u001b[1;31m---------------------------------------------------------------------------\u001b[0m",
      "\u001b[1;31mNameError\u001b[0m                                 Traceback (most recent call last)",
      "Cell \u001b[1;32mIn[54], line 1\u001b[0m\n\u001b[1;32m----> 1\u001b[0m rand(\u001b[38;5;241m3\u001b[39m,\u001b[38;5;241m2\u001b[39m)\n",
      "\u001b[1;31mNameError\u001b[0m: name 'rand' is not defined"
     ]
    }
   ],
   "source": [
    "rand(3,2) "
   ]
  },
  {
   "cell_type": "code",
   "execution_count": 55,
   "id": "fcb5d319-0d5b-4bfc-a467-55f9e234feb1",
   "metadata": {},
   "outputs": [
    {
     "ename": "NameError",
     "evalue": "name 'random' is not defined",
     "output_type": "error",
     "traceback": [
      "\u001b[1;31m---------------------------------------------------------------------------\u001b[0m",
      "\u001b[1;31mNameError\u001b[0m                                 Traceback (most recent call last)",
      "Cell \u001b[1;32mIn[55], line 1\u001b[0m\n\u001b[1;32m----> 1\u001b[0m random\u001b[38;5;241m.\u001b[39mrand(\u001b[38;5;241m3\u001b[39m,\u001b[38;5;241m2\u001b[39m)\n",
      "\u001b[1;31mNameError\u001b[0m: name 'random' is not defined"
     ]
    }
   ],
   "source": [
    "random.rand(3,2)"
   ]
  },
  {
   "cell_type": "markdown",
   "id": "dce66c69-f559-470b-8c3c-c876d141a58c",
   "metadata": {},
   "source": [
    "- error coz, random and rand are not defined before executing "
   ]
  },
  {
   "cell_type": "markdown",
   "id": "f873343d-9ba6-4e53-b55a-07939a283c00",
   "metadata": {},
   "source": [
    "# random() function\n",
    "- random() is a function in the NumPy library (under np.random) used to generate random numbers.\n",
    "- np.random.randint() is a NumPy function used to generate random integers (whole numbers) in a specified range."
   ]
  },
  {
   "cell_type": "code",
   "execution_count": 29,
   "id": "d7cf404c-f8a8-484f-a1da-649c95605193",
   "metadata": {},
   "outputs": [
    {
     "data": {
      "text/plain": [
       "array([0.15703469, 0.97546287, 0.18971722, 0.45323576, 0.69410315])"
      ]
     },
     "execution_count": 29,
     "metadata": {},
     "output_type": "execute_result"
    }
   ],
   "source": [
    "np.random.rand(5)"
   ]
  },
  {
   "cell_type": "code",
   "execution_count": 30,
   "id": "d552f035-9d81-42a3-ab57-83c607bd9fba",
   "metadata": {},
   "outputs": [
    {
     "data": {
      "text/plain": [
       "array([0.821097  , 0.03626323, 0.17570078, 0.85624371, 0.83103987])"
      ]
     },
     "execution_count": 30,
     "metadata": {},
     "output_type": "execute_result"
    }
   ],
   "source": [
    "np.random.rand(5)"
   ]
  },
  {
   "cell_type": "code",
   "execution_count": 31,
   "id": "9705af7c-c1b0-4032-98ad-37d215c12321",
   "metadata": {},
   "outputs": [
    {
     "data": {
      "text/plain": [
       "array([[0.90502209, 0.50391037, 0.90600036, 0.43547177, 0.13859078],\n",
       "       [0.78098841, 0.25851131, 0.12868712, 0.70658498, 0.83942283],\n",
       "       [0.52795846, 0.82280768, 0.47797701, 0.46386942, 0.07753883]])"
      ]
     },
     "execution_count": 31,
     "metadata": {},
     "output_type": "execute_result"
    }
   ],
   "source": [
    "np.random.rand(3,5)"
   ]
  },
  {
   "cell_type": "code",
   "execution_count": 32,
   "id": "1c732f06-28be-402f-b853-563f695a6d10",
   "metadata": {},
   "outputs": [
    {
     "data": {
      "text/plain": [
       "4"
      ]
     },
     "execution_count": 32,
     "metadata": {},
     "output_type": "execute_result"
    }
   ],
   "source": [
    "np.random.randint(3,5)"
   ]
  },
  {
   "cell_type": "code",
   "execution_count": 33,
   "id": "94528c47-4828-4aff-9e4a-408092bce60e",
   "metadata": {},
   "outputs": [
    {
     "data": {
      "text/plain": [
       "3"
      ]
     },
     "execution_count": 33,
     "metadata": {},
     "output_type": "execute_result"
    }
   ],
   "source": [
    "np.random.randint(3,9) # returns the value in random and less than 2nd argument"
   ]
  },
  {
   "cell_type": "code",
   "execution_count": 34,
   "id": "f453e57c-abfd-4829-9db1-68e03915e2e2",
   "metadata": {},
   "outputs": [
    {
     "data": {
      "text/plain": [
       "array([3, 6, 3, 4, 6])"
      ]
     },
     "execution_count": 34,
     "metadata": {},
     "output_type": "execute_result"
    }
   ],
   "source": [
    "np.random.randint(3,9,5) "
   ]
  },
  {
   "cell_type": "code",
   "execution_count": 35,
   "id": "911a66b0-6ffc-4613-8423-ba40dd03ffa9",
   "metadata": {},
   "outputs": [
    {
     "data": {
      "text/plain": [
       "array([[5, 8, 5, 5, 8, 5, 3, 3, 5, 6],\n",
       "       [3, 8, 7, 4, 7, 7, 3, 3, 3, 3],\n",
       "       [4, 8, 6, 6, 5, 3, 6, 4, 3, 8],\n",
       "       [5, 7, 3, 3, 4, 7, 7, 7, 7, 3],\n",
       "       [4, 3, 4, 3, 4, 4, 8, 6, 5, 8],\n",
       "       [3, 6, 3, 6, 7, 8, 3, 4, 6, 6],\n",
       "       [3, 6, 7, 5, 5, 6, 5, 3, 7, 6],\n",
       "       [8, 7, 5, 7, 6, 5, 6, 6, 6, 4],\n",
       "       [7, 6, 3, 4, 7, 5, 6, 6, 4, 7],\n",
       "       [4, 5, 4, 7, 5, 3, 6, 4, 4, 7]])"
      ]
     },
     "execution_count": 35,
     "metadata": {},
     "output_type": "execute_result"
    }
   ],
   "source": [
    "np.random.randint(3,9,(10,10))"
   ]
  },
  {
   "cell_type": "code",
   "execution_count": 36,
   "id": "f3751a4e-af26-4a1e-afc1-e888b66c76c3",
   "metadata": {},
   "outputs": [
    {
     "data": {
      "text/plain": [
       "array([[ 1,  2,  3,  4],\n",
       "       [ 5,  6,  7,  8],\n",
       "       [ 9, 10, 11, 12]])"
      ]
     },
     "execution_count": 36,
     "metadata": {},
     "output_type": "execute_result"
    }
   ],
   "source": [
    "np.arange(1,13).reshape(3,4)"
   ]
  },
  {
   "cell_type": "markdown",
   "id": "9519d109-0f62-4945-97de-57d79b9ec623",
   "metadata": {},
   "source": [
    "# slicing in matrix\n",
    "- Slicing is used to extract specific sub-arrays or parts of a matrix (2D array). In NumPy, you can use slicing to access specific rows, columns, or sub-matrices of a 2D array."
   ]
  },
  {
   "cell_type": "code",
   "execution_count": 37,
   "id": "a67693e3-61b5-44d5-af55-68a6c6c2aca9",
   "metadata": {},
   "outputs": [
    {
     "data": {
      "text/plain": [
       "array([[13, 18, 11, 11],\n",
       "       [18, 14, 18, 18],\n",
       "       [17, 19, 19, 11],\n",
       "       [17, 19, 17, 10],\n",
       "       [13, 16, 13, 17]])"
      ]
     },
     "execution_count": 37,
     "metadata": {},
     "output_type": "execute_result"
    }
   ],
   "source": [
    "b = np.random.randint(10,20,(5,4))\n",
    "b"
   ]
  },
  {
   "cell_type": "code",
   "execution_count": 38,
   "id": "64555058-cbfe-4f54-9a22-a962cfba4b27",
   "metadata": {},
   "outputs": [
    {
     "data": {
      "text/plain": [
       "numpy.ndarray"
      ]
     },
     "execution_count": 38,
     "metadata": {},
     "output_type": "execute_result"
    }
   ],
   "source": [
    "type(b)"
   ]
  },
  {
   "cell_type": "code",
   "execution_count": 39,
   "id": "1b8161e4-ac7b-414e-bd6f-3691085d09da",
   "metadata": {},
   "outputs": [
    {
     "data": {
      "text/plain": [
       "array([[13, 18, 11, 11],\n",
       "       [18, 14, 18, 18],\n",
       "       [17, 19, 19, 11],\n",
       "       [17, 19, 17, 10],\n",
       "       [13, 16, 13, 17]])"
      ]
     },
     "execution_count": 39,
     "metadata": {},
     "output_type": "execute_result"
    }
   ],
   "source": [
    "b"
   ]
  },
  {
   "cell_type": "code",
   "execution_count": 40,
   "id": "ea7a336d-b879-4e1b-99d2-78c9a6d71e80",
   "metadata": {},
   "outputs": [
    {
     "data": {
      "text/plain": [
       "array([[13, 18, 11, 11],\n",
       "       [18, 14, 18, 18],\n",
       "       [17, 19, 19, 11],\n",
       "       [17, 19, 17, 10],\n",
       "       [13, 16, 13, 17]])"
      ]
     },
     "execution_count": 40,
     "metadata": {},
     "output_type": "execute_result"
    }
   ],
   "source": [
    "b[:]"
   ]
  },
  {
   "cell_type": "code",
   "execution_count": 41,
   "id": "96d90040-6ef1-4c80-af61-977b86eb639b",
   "metadata": {},
   "outputs": [
    {
     "data": {
      "text/plain": [
       "array([[18, 14, 18, 18],\n",
       "       [17, 19, 19, 11]])"
      ]
     },
     "execution_count": 41,
     "metadata": {},
     "output_type": "execute_result"
    }
   ],
   "source": [
    "b[1:3]"
   ]
  },
  {
   "cell_type": "code",
   "execution_count": 42,
   "id": "7e8e78a3-c4e0-42b0-9280-d9d8762b3196",
   "metadata": {},
   "outputs": [
    {
     "data": {
      "text/plain": [
       "array([13, 18, 11, 11])"
      ]
     },
     "execution_count": 42,
     "metadata": {},
     "output_type": "execute_result"
    }
   ],
   "source": [
    "b[0]"
   ]
  },
  {
   "cell_type": "code",
   "execution_count": 43,
   "id": "22db0b83-30b6-492f-b7cc-9620442ac12c",
   "metadata": {},
   "outputs": [
    {
     "data": {
      "text/plain": [
       "array([18, 14, 18, 18])"
      ]
     },
     "execution_count": 43,
     "metadata": {},
     "output_type": "execute_result"
    }
   ],
   "source": [
    "b[1]"
   ]
  },
  {
   "cell_type": "code",
   "execution_count": 44,
   "id": "7da62ccf-d6d8-4b25-b96d-588e60e576ca",
   "metadata": {},
   "outputs": [
    {
     "data": {
      "text/plain": [
       "18"
      ]
     },
     "execution_count": 44,
     "metadata": {},
     "output_type": "execute_result"
    }
   ],
   "source": [
    "b[1,2]"
   ]
  },
  {
   "cell_type": "code",
   "execution_count": 45,
   "id": "5fa10e38-1ab3-4b64-ab45-c7e7e90b6657",
   "metadata": {},
   "outputs": [
    {
     "data": {
      "text/plain": [
       "array([[13, 18, 11, 11],\n",
       "       [18, 14, 18, 18],\n",
       "       [17, 19, 19, 11],\n",
       "       [17, 19, 17, 10],\n",
       "       [13, 16, 13, 17]])"
      ]
     },
     "execution_count": 45,
     "metadata": {},
     "output_type": "execute_result"
    }
   ],
   "source": [
    "b"
   ]
  },
  {
   "cell_type": "code",
   "execution_count": 46,
   "id": "cafa64e0-5070-470a-bd9d-f91532a2b8be",
   "metadata": {},
   "outputs": [
    {
     "data": {
      "text/plain": [
       "18"
      ]
     },
     "execution_count": 46,
     "metadata": {},
     "output_type": "execute_result"
    }
   ],
   "source": [
    "b[1,-1]"
   ]
  },
  {
   "cell_type": "code",
   "execution_count": 47,
   "id": "bfd2b8c5-b562-4420-8ced-0f6af2589623",
   "metadata": {},
   "outputs": [
    {
     "data": {
      "text/plain": [
       "array([[17, 19, 19, 11]])"
      ]
     },
     "execution_count": 47,
     "metadata": {},
     "output_type": "execute_result"
    }
   ],
   "source": [
    "b[2:3]"
   ]
  },
  {
   "cell_type": "code",
   "execution_count": 48,
   "id": "efb0b88a-328f-4ad7-8a02-6f39dab329cb",
   "metadata": {},
   "outputs": [
    {
     "data": {
      "text/plain": [
       "array([[13, 18, 11, 11],\n",
       "       [18, 14, 18, 18],\n",
       "       [17, 19, 19, 11]])"
      ]
     },
     "execution_count": 48,
     "metadata": {},
     "output_type": "execute_result"
    }
   ],
   "source": [
    "b[0:-2]"
   ]
  },
  {
   "cell_type": "code",
   "execution_count": 49,
   "id": "ffef999c-181f-45a5-b659-c9bfc011fa86",
   "metadata": {},
   "outputs": [
    {
     "data": {
      "text/plain": [
       "11"
      ]
     },
     "execution_count": 49,
     "metadata": {},
     "output_type": "execute_result"
    }
   ],
   "source": [
    "b[0,2]"
   ]
  },
  {
   "cell_type": "code",
   "execution_count": 50,
   "id": "a9d6b846-e65f-431c-9f38-0c658f5645a2",
   "metadata": {},
   "outputs": [
    {
     "data": {
      "text/plain": [
       "array([[13, 18, 11, 11],\n",
       "       [18, 14, 18, 18],\n",
       "       [17, 19, 19, 11],\n",
       "       [17, 19, 17, 10],\n",
       "       [13, 16, 13, 17]])"
      ]
     },
     "execution_count": 50,
     "metadata": {},
     "output_type": "execute_result"
    }
   ],
   "source": [
    "b"
   ]
  },
  {
   "cell_type": "code",
   "execution_count": 51,
   "id": "5d425f62-88f9-42e7-a969-2b15865cd859",
   "metadata": {},
   "outputs": [
    {
     "data": {
      "text/plain": [
       "18"
      ]
     },
     "execution_count": 51,
     "metadata": {},
     "output_type": "execute_result"
    }
   ],
   "source": [
    "b[-5,-3]"
   ]
  },
  {
   "cell_type": "code",
   "execution_count": 52,
   "id": "b25c99f0-c01b-4d6d-83ed-d8692bad6cd1",
   "metadata": {},
   "outputs": [
    {
     "data": {
      "text/plain": [
       "18"
      ]
     },
     "execution_count": 52,
     "metadata": {},
     "output_type": "execute_result"
    }
   ],
   "source": [
    "b[-4,2]"
   ]
  },
  {
   "cell_type": "markdown",
   "id": "18e53ca2-abf7-4d7f-bfa9-67d31ad87bdc",
   "metadata": {},
   "source": [
    "# Operations"
   ]
  },
  {
   "cell_type": "code",
   "execution_count": 54,
   "id": "d6eb8b59-b2bf-4e57-a025-436235e32ea9",
   "metadata": {},
   "outputs": [
    {
     "data": {
      "text/plain": [
       "array([11, 17, 15, 11, 15, 16, 14, 18, 13, 15])"
      ]
     },
     "execution_count": 54,
     "metadata": {},
     "output_type": "execute_result"
    }
   ],
   "source": [
    "a = np.random.randint(10,20,10) # (start, stop, step)\n",
    "a"
   ]
  },
  {
   "cell_type": "code",
   "execution_count": 55,
   "id": "dec314bb-e661-4ce1-8cb0-b40098720951",
   "metadata": {},
   "outputs": [],
   "source": [
    "# __init__ is a constructor\n",
    "# __name__ too (bydefault it calls main)"
   ]
  },
  {
   "cell_type": "code",
   "execution_count": 56,
   "id": "816bb220-03ad-4a4a-9869-32f45017db6b",
   "metadata": {},
   "outputs": [
    {
     "data": {
      "text/plain": [
       "2701459484240"
      ]
     },
     "execution_count": 56,
     "metadata": {},
     "output_type": "execute_result"
    }
   ],
   "source": [
    "id(a) # id : address of a variable"
   ]
  },
  {
   "cell_type": "code",
   "execution_count": 57,
   "id": "087d910b-c92a-44cf-9667-480a6b370a22",
   "metadata": {},
   "outputs": [
    {
     "data": {
      "text/plain": [
       "array([0, 1, 2, 3, 4, 5])"
      ]
     },
     "execution_count": 57,
     "metadata": {},
     "output_type": "execute_result"
    }
   ],
   "source": [
    "arr"
   ]
  },
  {
   "cell_type": "code",
   "execution_count": 58,
   "id": "4359e418-1dfe-4eb3-8ce8-c3523f610245",
   "metadata": {},
   "outputs": [
    {
     "data": {
      "text/plain": [
       "array([[41, 81, 73, 28, 20, 34, 68, 44, 16, 13],\n",
       "       [75, 79, 31, 71, 71, 62, 55, 20, 24, 36],\n",
       "       [43, 66, 50, 51, 15,  1, 58, 44, 25, 75],\n",
       "       [48, 54, 87, 30, 38, 64,  1, 88, 58, 99],\n",
       "       [43, 38, 46, 25, 55, 78, 30, 21, 31, 73],\n",
       "       [10, 44, 71, 26, 27, 39, 94, 61, 63,  3],\n",
       "       [79, 63, 44, 84, 32, 99, 98,  8, 35, 18],\n",
       "       [82, 97, 88, 57, 65, 64, 32,  8, 74, 72],\n",
       "       [65, 22, 11, 22,  9, 24, 65, 51, 56,  8],\n",
       "       [99, 12, 44, 36, 49,  5, 56, 86, 96, 97]])"
      ]
     },
     "execution_count": 58,
     "metadata": {},
     "output_type": "execute_result"
    }
   ],
   "source": [
    "arr2 = np.random.randint(0,100,(10,10))\n",
    "arr2"
   ]
  },
  {
   "cell_type": "code",
   "execution_count": 59,
   "id": "67076482-16f7-4688-a7ee-b6076916a228",
   "metadata": {},
   "outputs": [
    {
     "data": {
      "text/plain": [
       "array([0, 1, 2, 3, 4, 5])"
      ]
     },
     "execution_count": 59,
     "metadata": {},
     "output_type": "execute_result"
    }
   ],
   "source": [
    "arr[:]"
   ]
  },
  {
   "cell_type": "code",
   "execution_count": 60,
   "id": "7a47b2ae-a443-46d6-91c6-2834d46b4053",
   "metadata": {},
   "outputs": [
    {
     "data": {
      "text/plain": [
       "array([0, 1, 2, 3, 4, 5])"
      ]
     },
     "execution_count": 60,
     "metadata": {},
     "output_type": "execute_result"
    }
   ],
   "source": [
    "arr"
   ]
  },
  {
   "cell_type": "code",
   "execution_count": 61,
   "id": "5212f42e-2bfa-4f4d-a316-878365e78d01",
   "metadata": {},
   "outputs": [
    {
     "data": {
      "text/plain": [
       "array([0, 1, 2, 3])"
      ]
     },
     "execution_count": 61,
     "metadata": {},
     "output_type": "execute_result"
    }
   ],
   "source": [
    "arr[:4]"
   ]
  },
  {
   "cell_type": "code",
   "execution_count": 63,
   "id": "08e1466b-e033-47ce-a6d8-99a8c86bfd79",
   "metadata": {},
   "outputs": [
    {
     "data": {
      "text/plain": [
       "array([[41, 81, 73, 28, 20, 34, 68, 44, 16, 13],\n",
       "       [75, 79, 31, 71, 71, 62, 55, 20, 24, 36],\n",
       "       [43, 66, 50, 51, 15,  1, 58, 44, 25, 75],\n",
       "       [48, 54, 87, 30, 38, 64,  1, 88, 58, 99],\n",
       "       [43, 38, 46, 25, 55, 78, 30, 21, 31, 73],\n",
       "       [10, 44, 71, 26, 27, 39, 94, 61, 63,  3],\n",
       "       [79, 63, 44, 84, 32, 99, 98,  8, 35, 18],\n",
       "       [82, 97, 88, 57, 65, 64, 32,  8, 74, 72],\n",
       "       [65, 22, 11, 22,  9, 24, 65, 51, 56,  8],\n",
       "       [99, 12, 44, 36, 49,  5, 56, 86, 96, 97]])"
      ]
     },
     "execution_count": 63,
     "metadata": {},
     "output_type": "execute_result"
    }
   ],
   "source": [
    "arr2[:]"
   ]
  },
  {
   "cell_type": "code",
   "execution_count": 65,
   "id": "c6925053-d04a-4862-9f55-d9cdcf7c9c28",
   "metadata": {},
   "outputs": [
    {
     "data": {
      "text/plain": [
       "array([[41, 81, 73, 28, 20, 34, 68, 44, 16, 13],\n",
       "       [75, 79, 31, 71, 71, 62, 55, 20, 24, 36],\n",
       "       [43, 66, 50, 51, 15,  1, 58, 44, 25, 75],\n",
       "       [48, 54, 87, 30, 38, 64,  1, 88, 58, 99],\n",
       "       [43, 38, 46, 25, 55, 78, 30, 21, 31, 73]])"
      ]
     },
     "execution_count": 65,
     "metadata": {},
     "output_type": "execute_result"
    }
   ],
   "source": [
    "arr2[0:5]"
   ]
  },
  {
   "cell_type": "code",
   "execution_count": 66,
   "id": "f9789016-be68-4f15-9833-90c9bb7ea4de",
   "metadata": {},
   "outputs": [
    {
     "data": {
      "text/plain": [
       "array([[41, 81, 73, 28, 20, 34, 68, 44, 16, 13],\n",
       "       [75, 79, 31, 71, 71, 62, 55, 20, 24, 36],\n",
       "       [43, 66, 50, 51, 15,  1, 58, 44, 25, 75],\n",
       "       [48, 54, 87, 30, 38, 64,  1, 88, 58, 99],\n",
       "       [43, 38, 46, 25, 55, 78, 30, 21, 31, 73],\n",
       "       [10, 44, 71, 26, 27, 39, 94, 61, 63,  3],\n",
       "       [79, 63, 44, 84, 32, 99, 98,  8, 35, 18],\n",
       "       [82, 97, 88, 57, 65, 64, 32,  8, 74, 72],\n",
       "       [65, 22, 11, 22,  9, 24, 65, 51, 56,  8],\n",
       "       [99, 12, 44, 36, 49,  5, 56, 86, 96, 97]])"
      ]
     },
     "execution_count": 66,
     "metadata": {},
     "output_type": "execute_result"
    }
   ],
   "source": [
    "arr2"
   ]
  },
  {
   "cell_type": "markdown",
   "id": "579d65e5-28e2-48d7-ba7b-83e1e5b820aa",
   "metadata": {},
   "source": [
    "# Advanced slicing in Matrix\n",
    "- Advanced slicing allows more control over the selection of elements in a matrix. You can specify a step size (like skipping rows or columns), or use more complex patterns to slice your array."
   ]
  },
  {
   "cell_type": "code",
   "execution_count": 67,
   "id": "218165f2-3864-499f-aac6-e82bc5588601",
   "metadata": {},
   "outputs": [
    {
     "data": {
      "text/plain": [
       "array([[99, 12, 44, 36, 49,  5, 56, 86, 96, 97],\n",
       "       [65, 22, 11, 22,  9, 24, 65, 51, 56,  8],\n",
       "       [82, 97, 88, 57, 65, 64, 32,  8, 74, 72],\n",
       "       [79, 63, 44, 84, 32, 99, 98,  8, 35, 18],\n",
       "       [10, 44, 71, 26, 27, 39, 94, 61, 63,  3],\n",
       "       [43, 38, 46, 25, 55, 78, 30, 21, 31, 73],\n",
       "       [48, 54, 87, 30, 38, 64,  1, 88, 58, 99],\n",
       "       [43, 66, 50, 51, 15,  1, 58, 44, 25, 75],\n",
       "       [75, 79, 31, 71, 71, 62, 55, 20, 24, 36],\n",
       "       [41, 81, 73, 28, 20, 34, 68, 44, 16, 13]])"
      ]
     },
     "execution_count": 67,
     "metadata": {},
     "output_type": "execute_result"
    }
   ],
   "source": [
    "arr2[::-1] #returns reverse array"
   ]
  },
  {
   "cell_type": "code",
   "execution_count": 68,
   "id": "9a198c4e-da01-4137-9e92-6d9c630532ae",
   "metadata": {},
   "outputs": [
    {
     "data": {
      "text/plain": [
       "array([[41, 81, 73, 28, 20, 34, 68, 44, 16, 13],\n",
       "       [75, 79, 31, 71, 71, 62, 55, 20, 24, 36],\n",
       "       [43, 66, 50, 51, 15,  1, 58, 44, 25, 75],\n",
       "       [48, 54, 87, 30, 38, 64,  1, 88, 58, 99],\n",
       "       [43, 38, 46, 25, 55, 78, 30, 21, 31, 73],\n",
       "       [10, 44, 71, 26, 27, 39, 94, 61, 63,  3],\n",
       "       [79, 63, 44, 84, 32, 99, 98,  8, 35, 18],\n",
       "       [82, 97, 88, 57, 65, 64, 32,  8, 74, 72],\n",
       "       [65, 22, 11, 22,  9, 24, 65, 51, 56,  8],\n",
       "       [99, 12, 44, 36, 49,  5, 56, 86, 96, 97]])"
      ]
     },
     "execution_count": 68,
     "metadata": {},
     "output_type": "execute_result"
    }
   ],
   "source": [
    "arr2"
   ]
  },
  {
   "cell_type": "code",
   "execution_count": 69,
   "id": "7b516604-025b-4103-b6a1-f9b9804177cc",
   "metadata": {},
   "outputs": [
    {
     "data": {
      "text/plain": [
       "array([[99, 12, 44, 36, 49,  5, 56, 86, 96, 97],\n",
       "       [82, 97, 88, 57, 65, 64, 32,  8, 74, 72],\n",
       "       [10, 44, 71, 26, 27, 39, 94, 61, 63,  3],\n",
       "       [48, 54, 87, 30, 38, 64,  1, 88, 58, 99],\n",
       "       [75, 79, 31, 71, 71, 62, 55, 20, 24, 36]])"
      ]
     },
     "execution_count": 69,
     "metadata": {},
     "output_type": "execute_result"
    }
   ],
   "source": [
    "arr2[::-2] #returns in reverse and its takes -2 as step"
   ]
  },
  {
   "cell_type": "markdown",
   "id": "0136f5a0-d2ad-4cc5-9aeb-e75eebefeedc",
   "metadata": {},
   "source": [
    "# Max: Finds the largest number.\n",
    "# Min: Finds the smallest number.\n",
    "# Mean: Finds the average of all numbers.\n",
    "# Median: Finds the middle value when the numbers are sorted."
   ]
  },
  {
   "cell_type": "code",
   "execution_count": 70,
   "id": "a2e4e2cb-774b-43c9-89c1-ce4ba0564301",
   "metadata": {},
   "outputs": [
    {
     "data": {
      "text/plain": [
       "5"
      ]
     },
     "execution_count": 70,
     "metadata": {},
     "output_type": "execute_result"
    }
   ],
   "source": [
    "arr.max()"
   ]
  },
  {
   "cell_type": "code",
   "execution_count": 71,
   "id": "11c45a9a-7725-4cc2-8dee-60c9d01aa6c3",
   "metadata": {},
   "outputs": [
    {
     "data": {
      "text/plain": [
       "0"
      ]
     },
     "execution_count": 71,
     "metadata": {},
     "output_type": "execute_result"
    }
   ],
   "source": [
    "arr.min()"
   ]
  },
  {
   "cell_type": "code",
   "execution_count": 72,
   "id": "8f370e3d-6b6e-4fc4-990b-812dd26f79ff",
   "metadata": {},
   "outputs": [
    {
     "data": {
      "text/plain": [
       "2.5"
      ]
     },
     "execution_count": 72,
     "metadata": {},
     "output_type": "execute_result"
    }
   ],
   "source": [
    "arr.mean()"
   ]
  },
  {
   "cell_type": "code",
   "execution_count": 74,
   "id": "1eea18f2-d35a-43e9-a742-8dde219e3bba",
   "metadata": {},
   "outputs": [
    {
     "ename": "AttributeError",
     "evalue": "'numpy.ndarray' object has no attribute 'median'",
     "output_type": "error",
     "traceback": [
      "\u001b[1;31m---------------------------------------------------------------------------\u001b[0m",
      "\u001b[1;31mAttributeError\u001b[0m                            Traceback (most recent call last)",
      "Cell \u001b[1;32mIn[74], line 1\u001b[0m\n\u001b[1;32m----> 1\u001b[0m arr\u001b[38;5;241m.\u001b[39mmedian()\n",
      "\u001b[1;31mAttributeError\u001b[0m: 'numpy.ndarray' object has no attribute 'median'"
     ]
    }
   ],
   "source": [
    "arr.median()"
   ]
  },
  {
   "cell_type": "markdown",
   "id": "ffd673a0-f76b-4f2f-9581-e6954187db79",
   "metadata": {},
   "source": [
    "- its an error bcoz, it is not imported from the lib"
   ]
  },
  {
   "cell_type": "code",
   "execution_count": 75,
   "id": "d24a033b-3e47-45ff-a56d-a8bcede16e92",
   "metadata": {},
   "outputs": [
    {
     "data": {
      "text/plain": [
       "3.0"
      ]
     },
     "execution_count": 75,
     "metadata": {},
     "output_type": "execute_result"
    }
   ],
   "source": [
    "from numpy import *\n",
    "a = array([1,2,3,4,5])\n",
    "median(a)"
   ]
  },
  {
   "cell_type": "markdown",
   "id": "7cf3bca6-d143-446e-96d8-25c098725aef",
   "metadata": {},
   "source": [
    "# reshape() function\n",
    "- reshape() is a function in NumPy that allows you to change the shape of an array without changing its data."
   ]
  },
  {
   "cell_type": "code",
   "execution_count": 77,
   "id": "ae346860-1138-413f-ad38-75a31ebb57bc",
   "metadata": {},
   "outputs": [
    {
     "data": {
      "text/plain": [
       "array([0, 1, 2, 3, 4, 5])"
      ]
     },
     "execution_count": 77,
     "metadata": {},
     "output_type": "execute_result"
    }
   ],
   "source": [
    "arr"
   ]
  },
  {
   "cell_type": "code",
   "execution_count": 78,
   "id": "3e01aea9-a3a0-4492-b2f4-e44b54454e15",
   "metadata": {},
   "outputs": [
    {
     "data": {
      "text/plain": [
       "array([[0, 1, 2],\n",
       "       [3, 4, 5]])"
      ]
     },
     "execution_count": 78,
     "metadata": {},
     "output_type": "execute_result"
    }
   ],
   "source": [
    "arr.reshape(2,3) # it's reshaping in 2 rows and 3 col"
   ]
  },
  {
   "cell_type": "code",
   "execution_count": 79,
   "id": "46deda67-5877-4768-b0d5-063e81ce9d40",
   "metadata": {},
   "outputs": [
    {
     "data": {
      "text/plain": [
       "array([[0],\n",
       "       [1],\n",
       "       [2],\n",
       "       [3],\n",
       "       [4],\n",
       "       [5]])"
      ]
     },
     "execution_count": 79,
     "metadata": {},
     "output_type": "execute_result"
    }
   ],
   "source": [
    "arr.reshape(6,1)"
   ]
  },
  {
   "cell_type": "code",
   "execution_count": 80,
   "id": "6667d9d1-c315-497f-9c70-7e4bf0761e79",
   "metadata": {},
   "outputs": [
    {
     "ename": "ValueError",
     "evalue": "cannot reshape array of size 6 into shape (1,5)",
     "output_type": "error",
     "traceback": [
      "\u001b[1;31m---------------------------------------------------------------------------\u001b[0m",
      "\u001b[1;31mValueError\u001b[0m                                Traceback (most recent call last)",
      "Cell \u001b[1;32mIn[80], line 1\u001b[0m\n\u001b[1;32m----> 1\u001b[0m arr\u001b[38;5;241m.\u001b[39mreshape(\u001b[38;5;241m1\u001b[39m,\u001b[38;5;241m5\u001b[39m)\n",
      "\u001b[1;31mValueError\u001b[0m: cannot reshape array of size 6 into shape (1,5)"
     ]
    }
   ],
   "source": [
    "arr.reshape(1,5)"
   ]
  },
  {
   "cell_type": "markdown",
   "id": "55d599bc-6403-47c1-926e-a2d09bc60e71",
   "metadata": {},
   "source": [
    "- its an error bcoz, it can't change / replace / remove the values from an array"
   ]
  },
  {
   "cell_type": "markdown",
   "id": "8038b506-710e-4124-a07f-9db0fece9a6d",
   "metadata": {},
   "source": [
    "# Order in Reshaping: 'C', 'A', 'F' in NumPy\n",
    "- When you reshape a NumPy array, you can specify how the data should be read and written to the new shape. The order parameter controls this.\n",
    "- 'C': C-style row-major order (default)\n",
    "- 'A': Fortran-style column-major order (column-wise)\n",
    "- 'F': Fortran-style order (column-major)"
   ]
  },
  {
   "cell_type": "code",
   "execution_count": 81,
   "id": "125d9724-718c-42b1-af10-e3c17de751b5",
   "metadata": {},
   "outputs": [
    {
     "data": {
      "text/plain": [
       "array([[0, 1],\n",
       "       [2, 3],\n",
       "       [4, 5]])"
      ]
     },
     "execution_count": 81,
     "metadata": {},
     "output_type": "execute_result"
    }
   ],
   "source": [
    "arr.reshape(3,2,order='C')"
   ]
  },
  {
   "cell_type": "code",
   "execution_count": 82,
   "id": "b9ac36eb-cd41-46e4-875a-4d0f84add650",
   "metadata": {},
   "outputs": [
    {
     "data": {
      "text/plain": [
       "array([[0, 3],\n",
       "       [1, 4],\n",
       "       [2, 5]])"
      ]
     },
     "execution_count": 82,
     "metadata": {},
     "output_type": "execute_result"
    }
   ],
   "source": [
    "arr.reshape(3,2,order='F') "
   ]
  },
  {
   "cell_type": "code",
   "execution_count": 84,
   "id": "b838df7a-0fbf-43ad-9cbf-bddfa050d5a2",
   "metadata": {},
   "outputs": [
    {
     "data": {
      "text/plain": [
       "array([[0, 1],\n",
       "       [2, 3],\n",
       "       [4, 5]])"
      ]
     },
     "execution_count": 84,
     "metadata": {},
     "output_type": "execute_result"
    }
   ],
   "source": [
    "arr.reshape(3,2,order='A') # order 'C' & 'A' are almost gives the similar output"
   ]
  },
  {
   "cell_type": "markdown",
   "id": "1a734827-844e-4be5-9450-347b3aba4ed1",
   "metadata": {},
   "source": [
    "# Indexing \n",
    "- Indexing in NumPy allows you to access and modify specific elements or slices of an array."
   ]
  },
  {
   "cell_type": "code",
   "execution_count": 88,
   "id": "cfa35168-9ee1-4915-b97d-5c12b42854d9",
   "metadata": {},
   "outputs": [
    {
     "data": {
      "text/plain": [
       "array([[ 0,  1,  2,  3,  4,  5,  6,  7,  8,  9],\n",
       "       [10, 11, 12, 13, 14, 15, 16, 17, 18, 19],\n",
       "       [20, 21, 22, 23, 24, 25, 26, 27, 28, 29],\n",
       "       [30, 31, 32, 33, 34, 35, 36, 37, 38, 39],\n",
       "       [40, 41, 42, 43, 44, 45, 46, 47, 48, 49],\n",
       "       [50, 51, 52, 53, 54, 55, 56, 57, 58, 59],\n",
       "       [60, 61, 62, 63, 64, 65, 66, 67, 68, 69],\n",
       "       [70, 71, 72, 73, 74, 75, 76, 77, 78, 79],\n",
       "       [80, 81, 82, 83, 84, 85, 86, 87, 88, 89],\n",
       "       [90, 91, 92, 93, 94, 95, 96, 97, 98, 99]])"
      ]
     },
     "execution_count": 88,
     "metadata": {},
     "output_type": "execute_result"
    }
   ],
   "source": [
    "mat = np.arange(0,100).reshape(10,10) # here its printing a matrix of values from 0 - 100, which is reshaped in 10*10 matrix\n",
    "mat"
   ]
  },
  {
   "cell_type": "code",
   "execution_count": 86,
   "id": "22a9c417-202c-4d3b-b8e5-f1e728b3a955",
   "metadata": {},
   "outputs": [
    {
     "data": {
      "text/plain": [
       "array([[ 0,  1,  2,  3,  4,  5,  6,  7,  8,  9],\n",
       "       [10, 11, 12, 13, 14, 15, 16, 17, 18, 19],\n",
       "       [20, 21, 22, 23, 24, 25, 26, 27, 28, 29],\n",
       "       [30, 31, 32, 33, 34, 35, 36, 37, 38, 39],\n",
       "       [40, 41, 42, 43, 44, 45, 46, 47, 48, 49],\n",
       "       [50, 51, 52, 53, 54, 55, 56, 57, 58, 59],\n",
       "       [60, 61, 62, 63, 64, 65, 66, 67, 68, 69],\n",
       "       [70, 71, 72, 73, 74, 75, 76, 77, 78, 79],\n",
       "       [80, 81, 82, 83, 84, 85, 86, 87, 88, 89],\n",
       "       [90, 91, 92, 93, 94, 95, 96, 97, 98, 99]])"
      ]
     },
     "execution_count": 86,
     "metadata": {},
     "output_type": "execute_result"
    }
   ],
   "source": [
    "mat"
   ]
  },
  {
   "cell_type": "code",
   "execution_count": 89,
   "id": "49b88e42-9df9-4e0f-b5d4-980668714107",
   "metadata": {},
   "outputs": [],
   "source": [
    "# created variales\n",
    "row = 4\n",
    "col = 5"
   ]
  },
  {
   "cell_type": "code",
   "execution_count": 90,
   "id": "02efe165-582d-4fc6-a965-5e7ecfc0e9c0",
   "metadata": {},
   "outputs": [
    {
     "data": {
      "text/plain": [
       "4"
      ]
     },
     "execution_count": 90,
     "metadata": {},
     "output_type": "execute_result"
    }
   ],
   "source": [
    "row"
   ]
  },
  {
   "cell_type": "code",
   "execution_count": 91,
   "id": "6db10b19-ddd1-481c-9d5f-233ec96a92da",
   "metadata": {},
   "outputs": [
    {
     "data": {
      "text/plain": [
       "5"
      ]
     },
     "execution_count": 91,
     "metadata": {},
     "output_type": "execute_result"
    }
   ],
   "source": [
    "col"
   ]
  },
  {
   "cell_type": "code",
   "execution_count": 92,
   "id": "ca735005-a3db-4d63-a076-dcd3fccb3faf",
   "metadata": {},
   "outputs": [
    {
     "data": {
      "text/plain": [
       "45"
      ]
     },
     "execution_count": 92,
     "metadata": {},
     "output_type": "execute_result"
    }
   ],
   "source": [
    "mat[row,col] # it returns a value from a matrix based on values of row and col"
   ]
  },
  {
   "cell_type": "code",
   "execution_count": 93,
   "id": "bac4488d-707e-4122-ba0a-8f56ae7cd126",
   "metadata": {},
   "outputs": [
    {
     "data": {
      "text/plain": [
       "array([[ 0,  1,  2,  3,  4,  5,  6,  7,  8,  9],\n",
       "       [10, 11, 12, 13, 14, 15, 16, 17, 18, 19],\n",
       "       [20, 21, 22, 23, 24, 25, 26, 27, 28, 29],\n",
       "       [30, 31, 32, 33, 34, 35, 36, 37, 38, 39],\n",
       "       [40, 41, 42, 43, 44, 45, 46, 47, 48, 49],\n",
       "       [50, 51, 52, 53, 54, 55, 56, 57, 58, 59],\n",
       "       [60, 61, 62, 63, 64, 65, 66, 67, 68, 69],\n",
       "       [70, 71, 72, 73, 74, 75, 76, 77, 78, 79],\n",
       "       [80, 81, 82, 83, 84, 85, 86, 87, 88, 89],\n",
       "       [90, 91, 92, 93, 94, 95, 96, 97, 98, 99]])"
      ]
     },
     "execution_count": 93,
     "metadata": {},
     "output_type": "execute_result"
    }
   ],
   "source": [
    "mat[:]"
   ]
  },
  {
   "cell_type": "code",
   "execution_count": 94,
   "id": "4dc3c4d4-5a26-4e07-9903-f78c828ff437",
   "metadata": {},
   "outputs": [
    {
     "data": {
      "text/plain": [
       "array([ 5, 15, 25, 35, 45, 55, 65, 75, 85, 95])"
      ]
     },
     "execution_count": 94,
     "metadata": {},
     "output_type": "execute_result"
    }
   ],
   "source": [
    "# with slice\n",
    "mat[:,col] # returns the 5th col of a matrix"
   ]
  },
  {
   "cell_type": "code",
   "execution_count": 95,
   "id": "e45c7d20-2b20-40f0-adfe-9fd763b1c9e7",
   "metadata": {},
   "outputs": [
    {
     "data": {
      "text/plain": [
       "array([40, 41, 42, 43, 44, 45, 46, 47, 48, 49])"
      ]
     },
     "execution_count": 95,
     "metadata": {},
     "output_type": "execute_result"
    }
   ],
   "source": [
    "mat[row,:] # returns the 4th row of a matrix"
   ]
  },
  {
   "cell_type": "code",
   "execution_count": 96,
   "id": "63abaf49-ee87-49d2-a2c4-e705269bbce3",
   "metadata": {},
   "outputs": [
    {
     "data": {
      "text/plain": [
       "array([[ 0,  1,  2,  3,  4,  5,  6,  7,  8,  9],\n",
       "       [30, 31, 32, 33, 34, 35, 36, 37, 38, 39],\n",
       "       [60, 61, 62, 63, 64, 65, 66, 67, 68, 69],\n",
       "       [90, 91, 92, 93, 94, 95, 96, 97, 98, 99]])"
      ]
     },
     "execution_count": 96,
     "metadata": {},
     "output_type": "execute_result"
    }
   ],
   "source": [
    "mat[0:10:3] # (start, stop, step)"
   ]
  },
  {
   "cell_type": "code",
   "execution_count": 97,
   "id": "909a3d77-28d0-4e94-a82d-092539f55b16",
   "metadata": {},
   "outputs": [
    {
     "data": {
      "text/plain": [
       "array([[ 0,  1,  2,  3,  4,  5,  6,  7,  8,  9],\n",
       "       [10, 11, 12, 13, 14, 15, 16, 17, 18, 19],\n",
       "       [20, 21, 22, 23, 24, 25, 26, 27, 28, 29],\n",
       "       [30, 31, 32, 33, 34, 35, 36, 37, 38, 39],\n",
       "       [40, 41, 42, 43, 44, 45, 46, 47, 48, 49],\n",
       "       [50, 51, 52, 53, 54, 55, 56, 57, 58, 59],\n",
       "       [60, 61, 62, 63, 64, 65, 66, 67, 68, 69],\n",
       "       [70, 71, 72, 73, 74, 75, 76, 77, 78, 79],\n",
       "       [80, 81, 82, 83, 84, 85, 86, 87, 88, 89],\n",
       "       [90, 91, 92, 93, 94, 95, 96, 97, 98, 99]])"
      ]
     },
     "execution_count": 97,
     "metadata": {},
     "output_type": "execute_result"
    }
   ],
   "source": [
    "mat"
   ]
  },
  {
   "cell_type": "code",
   "execution_count": 99,
   "id": "6a0bc26e-3156-4dfe-96a9-f5bfa2476c71",
   "metadata": {},
   "outputs": [
    {
     "data": {
      "text/plain": [
       "array([[22, 23],\n",
       "       [32, 33],\n",
       "       [42, 43],\n",
       "       [52, 53]])"
      ]
     },
     "execution_count": 99,
     "metadata": {},
     "output_type": "execute_result"
    }
   ],
   "source": [
    "mat[2:6,2:4] # (row, col)"
   ]
  },
  {
   "cell_type": "code",
   "execution_count": 100,
   "id": "67be859c-ca2d-4234-a2bd-3652a742e01f",
   "metadata": {},
   "outputs": [
    {
     "data": {
      "text/plain": [
       "array([[12, 13]])"
      ]
     },
     "execution_count": 100,
     "metadata": {},
     "output_type": "execute_result"
    }
   ],
   "source": [
    "mat[1:2,2:4]"
   ]
  },
  {
   "cell_type": "code",
   "execution_count": 103,
   "id": "28f366d2-0447-41ae-a865-a75181eb9a14",
   "metadata": {},
   "outputs": [
    {
     "data": {
      "text/plain": [
       "array([[22]])"
      ]
     },
     "execution_count": 103,
     "metadata": {},
     "output_type": "execute_result"
    }
   ],
   "source": [
    "mat[2:3,2:3]"
   ]
  },
  {
   "cell_type": "markdown",
   "id": "3f40b6f6-2c8c-43c5-9385-c2fb2c0cfa74",
   "metadata": {},
   "source": [
    "# Masking in NumPy\n",
    "- Masking is a technique used in NumPy to filter or select elements from an array based on specific conditions.\n",
    "- also called as filter"
   ]
  },
  {
   "cell_type": "code",
   "execution_count": 104,
   "id": "c7f9789b-a20f-4a95-8e45-1efa2bea7075",
   "metadata": {},
   "outputs": [
    {
     "data": {
      "text/plain": [
       "array([[ 0,  1,  2,  3,  4,  5,  6,  7,  8,  9],\n",
       "       [10, 11, 12, 13, 14, 15, 16, 17, 18, 19],\n",
       "       [20, 21, 22, 23, 24, 25, 26, 27, 28, 29],\n",
       "       [30, 31, 32, 33, 34, 35, 36, 37, 38, 39],\n",
       "       [40, 41, 42, 43, 44, 45, 46, 47, 48, 49],\n",
       "       [50, 51, 52, 53, 54, 55, 56, 57, 58, 59],\n",
       "       [60, 61, 62, 63, 64, 65, 66, 67, 68, 69],\n",
       "       [70, 71, 72, 73, 74, 75, 76, 77, 78, 79],\n",
       "       [80, 81, 82, 83, 84, 85, 86, 87, 88, 89],\n",
       "       [90, 91, 92, 93, 94, 95, 96, 97, 98, 99]])"
      ]
     },
     "execution_count": 104,
     "metadata": {},
     "output_type": "execute_result"
    }
   ],
   "source": [
    "mat"
   ]
  },
  {
   "cell_type": "code",
   "execution_count": 105,
   "id": "97c9881a-9bef-4423-b9ff-bbe771942d4a",
   "metadata": {},
   "outputs": [
    {
     "data": {
      "text/plain": [
       "2701460007280"
      ]
     },
     "execution_count": 105,
     "metadata": {},
     "output_type": "execute_result"
    }
   ],
   "source": [
    "id(mat) # address of matrix"
   ]
  },
  {
   "cell_type": "code",
   "execution_count": 106,
   "id": "cc946bd9-d920-4e7b-8728-b30816b59b89",
   "metadata": {},
   "outputs": [
    {
     "data": {
      "text/plain": [
       "array([[ True,  True,  True,  True,  True,  True,  True,  True,  True,\n",
       "         True],\n",
       "       [ True,  True,  True,  True,  True,  True,  True,  True,  True,\n",
       "         True],\n",
       "       [ True,  True,  True,  True,  True,  True,  True,  True,  True,\n",
       "         True],\n",
       "       [ True,  True,  True,  True,  True,  True,  True,  True,  True,\n",
       "         True],\n",
       "       [ True,  True,  True,  True,  True,  True,  True,  True,  True,\n",
       "         True],\n",
       "       [False, False, False, False, False, False, False, False, False,\n",
       "        False],\n",
       "       [False, False, False, False, False, False, False, False, False,\n",
       "        False],\n",
       "       [False, False, False, False, False, False, False, False, False,\n",
       "        False],\n",
       "       [False, False, False, False, False, False, False, False, False,\n",
       "        False],\n",
       "       [False, False, False, False, False, False, False, False, False,\n",
       "        False]])"
      ]
     },
     "execution_count": 106,
     "metadata": {},
     "output_type": "execute_result"
    }
   ],
   "source": [
    "mat < 50 # returns \"True\", if the values of matrix are lessthan 50, else returns \"false\""
   ]
  },
  {
   "cell_type": "code",
   "execution_count": 107,
   "id": "67cebf68-7a54-489a-bd72-d84f437ed4d5",
   "metadata": {},
   "outputs": [
    {
     "data": {
      "text/plain": [
       "array([[False, False, False, False, False, False, False, False, False,\n",
       "        False],\n",
       "       [False, False, False, False, False, False, False, False, False,\n",
       "        False],\n",
       "       [False, False, False, False, False, False, False, False, False,\n",
       "        False],\n",
       "       [False, False, False, False, False, False, False, False, False,\n",
       "        False],\n",
       "       [False, False, False, False, False, False, False, False, False,\n",
       "        False],\n",
       "       [False,  True,  True,  True,  True,  True,  True,  True,  True,\n",
       "         True],\n",
       "       [ True,  True,  True,  True,  True,  True,  True,  True,  True,\n",
       "         True],\n",
       "       [ True,  True,  True,  True,  True,  True,  True,  True,  True,\n",
       "         True],\n",
       "       [ True,  True,  True,  True,  True,  True,  True,  True,  True,\n",
       "         True],\n",
       "       [ True,  True,  True,  True,  True,  True,  True,  True,  True,\n",
       "         True]])"
      ]
     },
     "execution_count": 107,
     "metadata": {},
     "output_type": "execute_result"
    }
   ],
   "source": [
    "mat > 50 # returns \"false\", if the values of matrix are Morethan 50, else returns \"True\""
   ]
  },
  {
   "cell_type": "code",
   "execution_count": 109,
   "id": "c602bf94-10ef-4619-8b5f-136d07f50dbd",
   "metadata": {},
   "outputs": [
    {
     "data": {
      "text/plain": [
       "array([[False, False, False, False, False, False, False, False, False,\n",
       "        False],\n",
       "       [False, False, False, False, False, False, False, False, False,\n",
       "        False],\n",
       "       [False, False, False, False, False, False, False, False, False,\n",
       "        False],\n",
       "       [False, False, False, False, False, False, False, False, False,\n",
       "        False],\n",
       "       [False, False, False, False, False, False, False, False, False,\n",
       "        False],\n",
       "       [ True, False, False, False, False, False, False, False, False,\n",
       "        False],\n",
       "       [False, False, False, False, False, False, False, False, False,\n",
       "        False],\n",
       "       [False, False, False, False, False, False, False, False, False,\n",
       "        False],\n",
       "       [False, False, False, False, False, False, False, False, False,\n",
       "        False],\n",
       "       [False, False, False, False, False, False, False, False, False,\n",
       "        False]])"
      ]
     },
     "execution_count": 109,
     "metadata": {},
     "output_type": "execute_result"
    }
   ],
   "source": [
    "mat == 50 # only retues \"ture\", if the values is equal to 50"
   ]
  },
  {
   "cell_type": "code",
   "execution_count": 111,
   "id": "51c59674-0274-47c0-a372-53038b9d08c0",
   "metadata": {},
   "outputs": [
    {
     "data": {
      "text/plain": [
       "array([50])"
      ]
     },
     "execution_count": 111,
     "metadata": {},
     "output_type": "execute_result"
    }
   ],
   "source": [
    "mat[mat==50] # returnd the values in matrix which is equal to 50"
   ]
  },
  {
   "cell_type": "code",
   "execution_count": 112,
   "id": "9f51a3e9-1dd9-430c-905d-50dd9cd5d658",
   "metadata": {},
   "outputs": [
    {
     "data": {
      "text/plain": [
       "array([ 0,  1,  2,  3,  4,  5,  6,  7,  8,  9, 10, 11, 12, 13, 14, 15, 16,\n",
       "       17, 18, 19, 20, 21, 22, 23, 24, 25, 26, 27, 28, 29, 30, 31, 32, 33,\n",
       "       34, 35, 36, 37, 38, 39, 40, 41, 42, 43, 44, 45, 46, 47, 48, 49])"
      ]
     },
     "execution_count": 112,
     "metadata": {},
     "output_type": "execute_result"
    }
   ],
   "source": [
    "a1 = mat[mat<50] # returns the values which are lesstha to 50\n",
    "a1"
   ]
  },
  {
   "cell_type": "code",
   "execution_count": 114,
   "id": "d6375f80-71aa-41ff-a2bd-afb5a9cb3b58",
   "metadata": {},
   "outputs": [
    {
     "data": {
      "text/plain": [
       "array([51, 52, 53, 54, 55, 56, 57, 58, 59, 60, 61, 62, 63, 64, 65, 66, 67,\n",
       "       68, 69, 70, 71, 72, 73, 74, 75, 76, 77, 78, 79, 80, 81, 82, 83, 84,\n",
       "       85, 86, 87, 88, 89, 90, 91, 92, 93, 94, 95, 96, 97, 98, 99])"
      ]
     },
     "execution_count": 114,
     "metadata": {},
     "output_type": "execute_result"
    }
   ],
   "source": [
    "a2 = mat[mat>50]  # returns the values which are morethan to 50\n",
    "a2"
   ]
  },
  {
   "cell_type": "code",
   "execution_count": 115,
   "id": "6937b04a-da6b-439d-9adf-c39aa9e31246",
   "metadata": {},
   "outputs": [
    {
     "data": {
      "text/plain": [
       "array([50, 51, 52, 53, 54, 55, 56, 57, 58, 59, 60, 61, 62, 63, 64, 65, 66,\n",
       "       67, 68, 69, 70, 71, 72, 73, 74, 75, 76, 77, 78, 79, 80, 81, 82, 83,\n",
       "       84, 85, 86, 87, 88, 89, 90, 91, 92, 93, 94, 95, 96, 97, 98, 99])"
      ]
     },
     "execution_count": 115,
     "metadata": {},
     "output_type": "execute_result"
    }
   ],
   "source": [
    "a3 = mat[mat>=50]  # returns the values which are morethan & equal to 50\n",
    "a3"
   ]
  },
  {
   "cell_type": "code",
   "execution_count": null,
   "id": "920fa29f-a22b-4553-9d9b-f84ee6c9aac0",
   "metadata": {},
   "outputs": [],
   "source": []
  }
 ],
 "metadata": {
  "kernelspec": {
   "display_name": "Python 3 (ipykernel)",
   "language": "python",
   "name": "python3"
  },
  "language_info": {
   "codemirror_mode": {
    "name": "ipython",
    "version": 3
   },
   "file_extension": ".py",
   "mimetype": "text/x-python",
   "name": "python",
   "nbconvert_exporter": "python",
   "pygments_lexer": "ipython3",
   "version": "3.12.7"
  }
 },
 "nbformat": 4,
 "nbformat_minor": 5
}
